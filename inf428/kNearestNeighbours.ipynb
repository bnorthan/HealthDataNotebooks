{
 "metadata": {
  "name": ""
 },
 "nbformat": 3,
 "nbformat_minor": 0,
 "worksheets": [
  {
   "cells": [
    {
     "cell_type": "code",
     "collapsed": false,
     "input": [
      "from numpy import *\n",
      "import operator"
     ],
     "language": "python",
     "metadata": {},
     "outputs": [],
     "prompt_number": 1
    },
    {
     "cell_type": "code",
     "collapsed": false,
     "input": [
      "def createDataSet():\n",
      "    group = array([[1.0,1.1],[1.0,1.0],[0,0],[0,0.1]])\n",
      "    labels = ['A','A','B','B']\n",
      "    return group, labels"
     ],
     "language": "python",
     "metadata": {},
     "outputs": [],
     "prompt_number": 2
    },
    {
     "cell_type": "code",
     "collapsed": false,
     "input": [
      "group, labels=createDataSet()\n",
      "\n",
      "print group\n",
      "print labels"
     ],
     "language": "python",
     "metadata": {},
     "outputs": [
      {
       "output_type": "stream",
       "stream": "stdout",
       "text": [
        "[[ 1.   1.1]\n",
        " [ 1.   1. ]\n",
        " [ 0.   0. ]\n",
        " [ 0.   0.1]]\n",
        "['A', 'A', 'B', 'B']\n"
       ]
      }
     ],
     "prompt_number": 3
    },
    {
     "cell_type": "code",
     "collapsed": false,
     "input": [
      "import matplotlib.pyplot as plt\n",
      "%matplotlib inline"
     ],
     "language": "python",
     "metadata": {},
     "outputs": [],
     "prompt_number": 13
    },
    {
     "cell_type": "code",
     "collapsed": false,
     "input": [
      "fig, ax = plt.subplots()\n",
      "ax.scatter(group[:,0], group[:,1])\n",
      "\n",
      "for i, txt in enumerate(labels):\n",
      "    ax.annotate(txt, (group[i,0]+.05,group[i,1]))"
     ],
     "language": "python",
     "metadata": {},
     "outputs": [
      {
       "metadata": {},
       "output_type": "display_data",
       "png": "[encoded data removed]",
       "text": [
        "<matplotlib.figure.Figure at 0x7f8648685d10>"
       ]
      }
     ],
     "prompt_number": 17
    },
    {
     "cell_type": "code",
     "collapsed": false,
     "input": [
      "def classify0(inX, dataSet, labels, k):\n",
      "    dataSetSize=dataSet.shape[0]\n",
      "    diffMat=tile(inX, (dataSetSize, 1))-dataSet\n",
      "    sqDiffMat=diffMat**2\n",
      "    sqDistances=sqDiffMat.sum(axis=1)\n",
      "    distances=sqDistances**0.5\n",
      "    sortedDistIndices=distances.argsort()\n",
      "    classCount={}\n",
      "    for i in range(k):\n",
      "        voteIlabel=labels[sortedDistIndices[i]]\n",
      "        classCount[voteIlabel]=classCount.get(voteIlabel,0)+1\n",
      "        \n",
      "    sortedClassCount=sorted(classCount.iteritems(), key=operator.itemgetter(1), reverse=True)\n",
      "    return sortedClassCount[0][0]"
     ],
     "language": "python",
     "metadata": {},
     "outputs": [],
     "prompt_number": 118
    },
    {
     "cell_type": "code",
     "collapsed": false,
     "input": [
      "classify0([0,0], group, labels, 3)"
     ],
     "language": "python",
     "metadata": {},
     "outputs": [
      {
       "metadata": {},
       "output_type": "pyout",
       "prompt_number": 119,
       "text": [
        "1"
       ]
      }
     ],
     "prompt_number": 119
    },
    {
     "cell_type": "code",
     "collapsed": false,
     "input": [
      "def file2matrix(filename):\n",
      "    fr = open(filename)\n",
      "    numberOfLines = len(fr.readlines())         #get the number of lines in the file\n",
      "    returnMat = zeros((numberOfLines,3))        #prepare matrix to return\n",
      "    classLabelVector = []                     #prepare labels return   \n",
      "    fr = open(filename)\n",
      "    index = 0\n",
      "    for line in fr.readlines():\n",
      "        \n",
      "        line = line.strip()\n",
      "        listFromLine = line.split('\\t')\n",
      "        returnMat[index,:] = listFromLine[0:3]\n",
      "        \n",
      "        if listFromLine[-1] == 'largeDoses':\n",
      "\n",
      "            classLabelVector.append(3)\n",
      "\n",
      "        elif listFromLine[-1] == 'smallDoses':\n",
      "\n",
      "            classLabelVector.append(2)\n",
      "\n",
      "        elif listFromLine[-1] == 'didntLike':\n",
      "\n",
      "            classLabelVector.append(1)\n",
      "\n",
      "        index += 1\n",
      "    return returnMat,classLabelVector"
     ],
     "language": "python",
     "metadata": {},
     "outputs": [],
     "prompt_number": 113
    },
    {
     "cell_type": "code",
     "collapsed": false,
     "input": [
      "fileName='../ExampleCode/machinelearninginaction/Ch02/datingTestSet.txt'\n",
      "mat, labels=file2matrix(fileName)\n",
      "print labels[0:20]"
     ],
     "language": "python",
     "metadata": {},
     "outputs": [
      {
       "output_type": "stream",
       "stream": "stdout",
       "text": [
        "[3, 2, 1, 1, 1, 1, 3, 3, 1, 3, 1, 1, 2, 1, 1, 1, 1, 1, 2, 3]\n"
       ]
      }
     ],
     "prompt_number": 114
    },
    {
     "cell_type": "code",
     "collapsed": false,
     "input": [
      "fig = plt.figure(figsize=(10, 8))\n",
      "ax=fig.add_subplot(111)\n",
      "ax.scatter(mat[:,1], mat[:,2], 15.0*array(labels), 15.0*array(labels))\n",
      "plt.show()"
     ],
     "language": "python",
     "metadata": {},
     "outputs": [
      {
       "metadata": {},
       "output_type": "display_data",
       "png": "[encoded data removed]",
       "text": [
        "<matplotlib.figure.Figure at 0x7f864684ef90>"
       ]
      }
     ],
     "prompt_number": 115
    },
    {
     "cell_type": "code",
     "collapsed": false,
     "input": [
      "fig = plt.figure(figsize=(10, 8))\n",
      "ax=fig.add_subplot(111)\n",
      "ax.scatter(mat[:,0], mat[:,1], 15.0*array(labels), 15.0*array(labels))\n",
      "plt.show()"
     ],
     "language": "python",
     "metadata": {},
     "outputs": [
      {
       "metadata": {},
       "output_type": "display_data",
       "png": "[encoded data removed]",
       "text": [
        "<matplotlib.figure.Figure at 0x7f8646a50350>"
       ]
      }
     ],
     "prompt_number": 96
    },
    {
     "cell_type": "code",
     "collapsed": false,
     "input": [
      "# normalization\n",
      "def autoNorm(dataSet):\n",
      "    minVals = dataSet.min(0)\n",
      "    maxVals = dataSet.max(0)\n",
      "    ranges = maxVals - minVals\n",
      "    normDataSet = zeros(shape(dataSet))\n",
      "    m = dataSet.shape[0]\n",
      "    normDataSet = dataSet - tile(minVals, (m,1))\n",
      "    normDataSet = normDataSet/tile(ranges, (m,1))   #element wise divide\n",
      "    return normDataSet, ranges, minVals"
     ],
     "language": "python",
     "metadata": {},
     "outputs": [],
     "prompt_number": 106
    },
    {
     "cell_type": "code",
     "collapsed": false,
     "input": [
      "\n",
      "hoRatio=0.10\n",
      "datingDataMat, datingLabels=file2matrix('../ExampleCode/machinelearninginaction/Ch02/datingTestSet.txt')\n",
      "normMat, ranges, minVals=autoNorm(datingDataMat)\n",
      "m = normMat.shape[0]\n",
      "print m\n",
      "numTestVecs=int(m*hoRatio)\n",
      "errorCount=0.0\n",
      "for i in range(numTestVecs):\n",
      "    classifierResult=classify0(normMat[i,:], normMat[numTestVecs:m,:], datingLabels[numTestVecs:m], 3)\n",
      "    print \"classifier is: %d, the real answer is: %d\" %(classifierResult, datingLabels[i])\n",
      "    if (classifierResult != datingLabels[i]): errorCount += 1.0\n",
      "\n",
      "print \"total errors: %d and rate: %f\" % (errorCount, def img2vector(filename):\n",
      "    returnVect = zeros((1,1024))\n",
      "    fr = open(filename)\n",
      "    for i in range(32):\n",
      "        lineStr = fr.readline()\n",
      "        for j in range(32):\n",
      "            returnVect[0,32*i+j] = int(lineStr[j])\n",
      "    return returnVecterrorCount/float(numTestVecs))"
     ],
     "language": "python",
     "metadata": {},
     "outputs": [
      {
       "output_type": "stream",
       "stream": "stdout",
       "text": [
        "1000\n",
        "classifier is: 3, the real answer is: 3\n",
        "classifier is: 2, the real answer is: 2\n",
        "classifier is: 1, the real answer is: 1\n",
        "classifier is: 1, the real answer is: 1\n",
        "classifier is: 1, the real answer is: 1\n",
        "classifier is: 1, the real answer is: 1\n",
        "classifier is: 3, the real answer is: 3\n",
        "classifier is: 3, the real answer is: 3\n",
        "classifier is: 1, the real answer is: 1\n",
        "classifier is: 3, the real answer is: 3\n",
        "classifier is: 1, the real answer is: 1\n",
        "classifier is: 1, the real answer is: 1\n",
        "classifier is: 2, the real answer is: 2\n",
        "classifier is: 1, the real answer is: 1\n",
        "classifier is: 1, the real answer is: 1\n",
        "classifier is: 1, the real answer is: 1\n",
        "classifier is: 1, the real answer is: 1\n",
        "classifier is: 1, the real answer is: 1\n",
        "classifier is: 2, the real answer is: 2\n",
        "classifier is: 3, the real answer is: 3\n",
        "classifier is: 2, the real answer is: 2\n",
        "classifier is: 1, the real answer is: 1\n",
        "classifier is: 1, the real answer is: 2\n",
        "classifier is: 3, the real answer is: 3\n",
        "classifier is: 2, the real answer is: 2\n",
        "classifier is: 3, the real answer is: 3\n",
        "classifier is: 2, the real answer is: 2\n",
        "classifier is: 3, the real answer is: 3\n",
        "classifier is: 2, the real answer is: 2\n",
        "classifier is: 1, the real answer is: 1\n",
        "classifier is: 3, the real answer is: 3\n",
        "classifier is: 1, the real answer is: 1\n",
        "classifier is: 3, the real answer is: 3\n",
        "classifier is: 1, the real answer is: 1\n",
        "classifier is: 2, the real answer is: 2\n",
        "classifier is: 1, the real answer is: 1\n",
        "classifier is: 1, the real answer is: 1\n",
        "classifier is: 2, the real answer is: 2\n",
        "classifier is: 3, the real answer is: 3\n",
        "classifier is: 3, the real answer is: 3\n",
        "classifier is: 1, the real answer is: 1\n",
        "classifier is: 2, the real answer is: 2\n",
        "classifier is: 3, the real answer is: 3\n",
        "classifier is: 3, the real answer is: 3\n",
        "classifier is: 3, the real answer is: 3\n",
        "classifier is: 1, the real answer is: 1\n",
        "classifier is: 1, the real answer is: 1\n",
        "classifier is: 1, the real answer is: 1\n",
        "classifier is: 1, the real answer is: 1\n",
        "classifier is: 2, the real answer is: 2\n",
        "classifier is: 2, the real answer is: 2\n",
        "classifier is: 1, the real answer is: 1\n",
        "classifier is: 3, the real answer is: 3\n",
        "classifier is: 2, the real answer is: 2\n",
        "classifier is: 2, the real answer is: 2\n",
        "classifier is: 2, the real answer is: 2\n",
        "classifier is: 2, the real answer is: 2\n",
        "classifier is: 3, the real answer is: 3\n",
        "classifier is: 1, the real answer is: 1\n",
        "classifier is: 2, the real answer is: 2\n",
        "classifier is: 1, the real answer is: 1\n",
        "classifier is: 2, the real answer is: 2\n",
        "classifier is: 2, the real answer is: 2\n",
        "classifier is: 2, the real answer is: 2\n",
        "classifier is: 2, the real answer is: 2\n",
        "classifier is: 2, the real answer is: 2\n",
        "classifier is: 3, the real answer is: 3\n",
        "classifier is: 2, the real answer is: 2\n",
        "classifier is: 3, the real answer is: 3\n",
        "classifier is: 1, the real answer is: 1\n",
        "classifier is: 2, the real answer is: 2\n",
        "classifier is: 3, the real answer is: 3\n",
        "classifier is: 2, the real answer is: 2\n",
        "classifier is: 2, the real answer is: 2\n",
        "classifier is: 3, the real answer is: 1\n",
        "classifier is: 3, the real answer is: 3\n",
        "classifier is: 1, the real answer is: 1\n",
        "classifier is: 1, the real answer is: 1\n",
        "classifier is: 3, the real answer is: 3\n",
        "classifier is: 3, the real answer is: 3\n",
        "classifier is: 1, the real answer is: 1\n",
        "classifier is: 2, the real answer is: 2\n",
        "classifier is: 3, the real answer is: 3\n",
        "classifier is: 3, the real answer is: 1\n",
        "classifier is: 3, the real answer is: 3\n",
        "classifier is: 1, the real answer is: 1\n",
        "classifier is: 2, the real answer is: 2\n",
        "classifier is: 2, the real answer is: 2\n",
        "classifier is: 1, the real answer is: 1\n",
        "classifier is: 1, the real answer is: 1\n",
        "classifier is: 3, the real answer is: 3\n",
        "classifier is: 2, the real answer is: 3\n",
        "classifier is: 1, the real answer is: 1\n",
        "classifier is: 2, the real answer is: 2\n",
        "classifier is: 1, the real answer is: 1\n",
        "classifier is: 3, the real answer is: 3\n",
        "classifier is: 3, the real answer is: 3\n",
        "classifier is: 2, the real answer is: 2\n",
        "classifier is: 1, the real answer is: 1\n",
        "classifier is: 3, the real answer is: 1\n",
        "total errors: 5 and rate: 0.050000\n"
       ]
      }
     ],
     "prompt_number": 121
    },
    {
     "cell_type": "code",
     "collapsed": false,
     "input": [
      "def img2vector(filename):\n",
      "    returnVect = zeros((1,1024))\n",
      "    fr = open(filename)\n",
      "    for i in range(32):\n",
      "        lineStr = fr.readline()\n",
      "        for j in range(32):\n",
      "            returnVect[0,32*i+j] = int(lineStr[j])\n",
      "    return returnVect"
     ],
     "language": "python",
     "metadata": {},
     "outputs": [],
     "prompt_number": 122
    },
    {
     "cell_type": "code",
     "collapsed": false,
     "input": [
      "from os import listdir\n",
      "\n",
      "hwLabels=[]\n",
      "trainingDir='../ExampleCode/machinelearninginaction/Ch02/digits/trainingDigits'\n",
      "trainingFileList=listdir(trainingDir)\n",
      "m=len(trainingFileList)\n",
      "print m\n",
      "\n",
      "trainingMat=zeros((m, 1024))\n",
      "for i in range(m):\n",
      "    fileName=trainingFileList[i]\n",
      "    fileStr=fileName.split('.')[0]\n",
      "    classNumStr=int(fileStr.split('_')[0])\n",
      "    hwLabels.append(classNumStr)\n",
      "    trainingMat[i,:]=img2vector('%s/%s' % (trainingDir, fileName))\n",
      "\n",
      "testDir='../ExampleCode/machinelearninginaction/Ch02/digits/testDigits'\n",
      "testFileList=listdir(testDir)\n",
      "errorCount=0.0\n",
      "\n",
      "mTest=len(testFileList)\n",
      "print mTest\n",
      "\n",
      "for i in range(mTest):\n",
      "    fileName=testFileList[i]\n",
      "    fileStr=fileName.split('.')[0]\n",
      "    classNumStr=int(fileStr.split('_')[0])\n",
      "    vectorTest=img2vector('%s/%s' % (testDir, fileName))\n",
      "    \n",
      "    result = classify0(vectorTest, trainingMat, hwLabels, 5)\n",
      "    print 'classifier result: %d, real answer %d' % (result, classNumStr)\n",
      "    \n",
      "    if (result != classNumStr): errorCount+=1\n",
      "        \n",
      "print \"num errors \"+str(errorCount)\n",
      "print \"error rate: \"+str(float(errorCount)/float(mTest))"
     ],
     "language": "python",
     "metadata": {},
     "outputs": [
      {
       "output_type": "stream",
       "stream": "stdout",
       "text": [
        "1934\n",
        "946"
       ]
      },
      {
       "output_type": "stream",
       "stream": "stdout",
       "text": [
        "\n",
        "classifier result: 6, real answer 6\n",
        "classifier result: 1, real answer 1\n",
        "classifier result: 4, real answer 4\n",
        "classifier result: 6, real answer 6\n",
        "classifier result: 1, real answer 1"
       ]
      },
      {
       "output_type": "stream",
       "stream": "stdout",
       "text": [
        "\n",
        "classifier result: 8, real answer 8\n",
        "classifier result: 1, real answer 1\n",
        "classifier result: 1, real answer 1\n",
        "classifier result: 4, real answer 4\n",
        "classifier result: 6, real answer 6"
       ]
      },
      {
       "output_type": "stream",
       "stream": "stdout",
       "text": [
        "\n",
        "classifier result: 7, real answer 7\n",
        "classifier result: 4, real answer 4\n",
        "classifier result: 0, real answer 0\n",
        "classifier result: 4, real answer 4\n",
        "classifier result: 5, real answer 5"
       ]
      },
      {
       "output_type": "stream",
       "stream": "stdout",
       "text": [
        "\n",
        "classifier result: 4, real answer 4\n",
        "classifier result: 0, real answer 0\n",
        "classifier result: 3, real answer 3\n",
        "classifier result: 6, real answer 6\n",
        "classifier result: 1, real answer 1"
       ]
      },
      {
       "output_type": "stream",
       "stream": "stdout",
       "text": [
        "\n",
        "classifier result: 4, real answer 4\n",
        "classifier result: 8, real answer 8\n",
        "classifier result: 4, real answer 4\n",
        "classifier result: 3, real answer 3\n",
        "classifier result: 1, real answer 1"
       ]
      },
      {
       "output_type": "stream",
       "stream": "stdout",
       "text": [
        "\n",
        "classifier result: 0, real answer 0\n",
        "classifier result: 5, real answer 5\n",
        "classifier result: 1, real answer 1\n",
        "classifier result: 3, real answer 3\n",
        "classifier result: 5, real answer 5"
       ]
      },
      {
       "output_type": "stream",
       "stream": "stdout",
       "text": [
        "\n",
        "classifier result: 1, real answer 1\n",
        "classifier result: 7, real answer 7\n",
        "classifier result: 1, real answer 1\n",
        "classifier result: 3, real answer 3\n",
        "classifier result: 3, real answer 3"
       ]
      },
      {
       "output_type": "stream",
       "stream": "stdout",
       "text": [
        "\n",
        "classifier result: 8, real answer 8\n",
        "classifier result: 4, real answer 4\n",
        "classifier result: 2, real answer 2\n",
        "classifier result: 8, real answer 8\n",
        "classifier result: 3, real answer 8"
       ]
      },
      {
       "output_type": "stream",
       "stream": "stdout",
       "text": [
        "\n",
        "classifier result: 8, real answer 8\n",
        "classifier result: 3, real answer 3\n",
        "classifier result: 9, real answer 9\n",
        "classifier result: 1, real answer 1\n",
        "classifier result: 7, real answer 7"
       ]
      },
      {
       "output_type": "stream",
       "stream": "stdout",
       "text": [
        "\n",
        "classifier result: 1, real answer 1\n",
        "classifier result: 5, real answer 5\n",
        "classifier result: 5, real answer 5\n",
        "classifier result: 6, real answer 6\n",
        "classifier result: 5, real answer 5"
       ]
      },
      {
       "output_type": "stream",
       "stream": "stdout",
       "text": [
        "\n",
        "classifier result: 6, real answer 6\n",
        "classifier result: 3, real answer 3\n",
        "classifier result: 0, real answer 0\n",
        "classifier result: 9, real answer 9\n",
        "classifier result: 7, real answer 7"
       ]
      },
      {
       "output_type": "stream",
       "stream": "stdout",
       "text": [
        "\n",
        "classifier result: 3, real answer 3\n",
        "classifier result: 4, real answer 4\n",
        "classifier result: 0, real answer 0\n",
        "classifier result: 8, real answer 8\n",
        "classifier result: 3, real answer 3"
       ]
      },
      {
       "output_type": "stream",
       "stream": "stdout",
       "text": [
        "\n",
        "classifier result: 0, real answer 0\n",
        "classifier result: 9, real answer 9\n",
        "classifier result: 1, real answer 1\n",
        "classifier result: 5, real answer 5\n",
        "classifier result: 1, real answer 1"
       ]
      },
      {
       "output_type": "stream",
       "stream": "stdout",
       "text": [
        "\n",
        "classifier result: 7, real answer 7\n",
        "classifier result: 8, real answer 8\n",
        "classifier result: 9, real answer 9\n",
        "classifier result: 4, real answer 4\n",
        "classifier result: 4, real answer 4"
       ]
      },
      {
       "output_type": "stream",
       "stream": "stdout",
       "text": [
        "\n",
        "classifier result: 0, real answer 0\n",
        "classifier result: 3, real answer 3\n",
        "classifier result: 7, real answer 1\n",
        "classifier result: 0, real answer 0\n",
        "classifier result: 7, real answer 7"
       ]
      },
      {
       "output_type": "stream",
       "stream": "stdout",
       "text": [
        "\n",
        "classifier result: 4, real answer 4\n",
        "classifier result: 4, real answer 4\n",
        "classifier result: 9, real answer 9\n",
        "classifier result: 1, real answer 1\n",
        "classifier result: 3, real answer 3"
       ]
      },
      {
       "output_type": "stream",
       "stream": "stdout",
       "text": [
        "\n",
        "classifier result: 3, real answer 3\n",
        "classifier result: 5, real answer 5\n",
        "classifier result: 9, real answer 9\n",
        "classifier result: 7, real answer 7\n",
        "classifier result: 7, real answer 7"
       ]
      },
      {
       "output_type": "stream",
       "stream": "stdout",
       "text": [
        "\n",
        "classifier result: 7, real answer 7\n",
        "classifier result: 3, real answer 3\n",
        "classifier result: 0, real answer 0\n",
        "classifier result: 7, real answer 7\n",
        "classifier result: 5, real answer 5"
       ]
      },
      {
       "output_type": "stream",
       "stream": "stdout",
       "text": [
        "\n",
        "classifier result: 4, real answer 4\n",
        "classifier result: 5, real answer 5\n",
        "classifier result: 1, real answer 1\n",
        "classifier result: 6, real answer 6\n",
        "classifier result: 7, real answer 7"
       ]
      },
      {
       "output_type": "stream",
       "stream": "stdout",
       "text": [
        "\n",
        "classifier result: 9, real answer 9\n",
        "classifier result: 9, real answer 9\n",
        "classifier result: 2, real answer 2\n",
        "classifier result: 4, real answer 4\n",
        "classifier result: 9, real answer 3"
       ]
      },
      {
       "output_type": "stream",
       "stream": "stdout",
       "text": [
        "\n",
        "classifier result: 0, real answer 0\n",
        "classifier result: 3, real answer 3\n",
        "classifier result: 1, real answer 1\n",
        "classifier result: 4, real answer 4\n",
        "classifier result: 0, real answer 0"
       ]
      },
      {
       "output_type": "stream",
       "stream": "stdout",
       "text": [
        "\n",
        "classifier result: 0, real answer 0\n",
        "classifier result: 0, real answer 0\n",
        "classifier result: 7, real answer 7\n",
        "classifier result: 7, real answer 7\n",
        "classifier result: 4, real answer 4"
       ]
      },
      {
       "output_type": "stream",
       "stream": "stdout",
       "text": [
        "\n",
        "classifier result: 9, real answer 9\n",
        "classifier result: 7, real answer 7\n",
        "classifier result: 0, real answer 0\n",
        "classifier result: 8, real answer 8\n",
        "classifier result: 5, real answer 5"
       ]
      },
      {
       "output_type": "stream",
       "stream": "stdout",
       "text": [
        "\n",
        "classifier result: 1, real answer 1\n",
        "classifier result: 4, real answer 4\n",
        "classifier result: 7, real answer 7\n",
        "classifier result: 6, real answer 6\n",
        "classifier result: 3, real answer 3"
       ]
      },
      {
       "output_type": "stream",
       "stream": "stdout",
       "text": [
        "\n",
        "classifier result: 9, real answer 9\n",
        "classifier result: 2, real answer 2\n",
        "classifier result: 1, real answer 1\n",
        "classifier result: 4, real answer 4\n",
        "classifier result: 1, real answer 1"
       ]
      },
      {
       "output_type": "stream",
       "stream": "stdout",
       "text": [
        "\n",
        "classifier result: 0, real answer 0\n",
        "classifier result: 4, real answer 4\n",
        "classifier result: 3, real answer 3\n",
        "classifier result: 0, real answer 0\n",
        "classifier result: 7, real answer 7"
       ]
      },
      {
       "output_type": "stream",
       "stream": "stdout",
       "text": [
        "\n",
        "classifier result: 1, real answer 1\n",
        "classifier result: 9, real answer 9\n",
        "classifier result: 1, real answer 1\n",
        "classifier result: 6, real answer 6\n",
        "classifier result: 1, real answer 1"
       ]
      },
      {
       "output_type": "stream",
       "stream": "stdout",
       "text": [
        "\n",
        "classifier result: 6, real answer 6\n",
        "classifier result: 9, real answer 9\n",
        "classifier result: 0, real answer 0\n",
        "classifier result: 9, real answer 9\n",
        "classifier result: 4, real answer 4"
       ]
      },
      {
       "output_type": "stream",
       "stream": "stdout",
       "text": [
        "\n",
        "classifier result: 6, real answer 6\n",
        "classifier result: 3, real answer 3\n",
        "classifier result: 2, real answer 2\n",
        "classifier result: 3, real answer 3\n",
        "classifier result: 7, real answer 7"
       ]
      },
      {
       "output_type": "stream",
       "stream": "stdout",
       "text": [
        "\n",
        "classifier result: 7, real answer 7\n",
        "classifier result: 0, real answer 0\n",
        "classifier result: 8, real answer 8\n",
        "classifier result: 7, real answer 7\n",
        "classifier result: 5, real answer 5"
       ]
      },
      {
       "output_type": "stream",
       "stream": "stdout",
       "text": [
        "\n",
        "classifier result: 4, real answer 4\n",
        "classifier result: 9, real answer 9\n",
        "classifier result: 0, real answer 0\n",
        "classifier result: 1, real answer 1\n",
        "classifier result: 4, real answer 4"
       ]
      },
      {
       "output_type": "stream",
       "stream": "stdout",
       "text": [
        "\n",
        "classifier result: 2, real answer 2\n",
        "classifier result: 2, real answer 2\n",
        "classifier result: 0, real answer 0\n",
        "classifier result: 7, real answer 7\n",
        "classifier result: 7, real answer 7"
       ]
      },
      {
       "output_type": "stream",
       "stream": "stdout",
       "text": [
        "\n",
        "classifier result: 3, real answer 3\n",
        "classifier result: 8, real answer 8\n",
        "classifier result: 3, real answer 3\n",
        "classifier result: 1, real answer 1\n",
        "classifier result: 6, real answer 6"
       ]
      },
      {
       "output_type": "stream",
       "stream": "stdout",
       "text": [
        "\n",
        "classifier result: 8, real answer 8\n",
        "classifier result: 8, real answer 8\n",
        "classifier result: 8, real answer 8\n",
        "classifier result: 4, real answer 4\n",
        "classifier result: 2, real answer 2"
       ]
      },
      {
       "output_type": "stream",
       "stream": "stdout",
       "text": [
        "\n",
        "classifier result: 8, real answer 8\n",
        "classifier result: 6, real answer 6\n",
        "classifier result: 6, real answer 6\n",
        "classifier result: 6, real answer 6\n",
        "classifier result: 1, real answer 1"
       ]
      },
      {
       "output_type": "stream",
       "stream": "stdout",
       "text": [
        "\n",
        "classifier result: 5, real answer 5\n",
        "classifier result: 6, real answer 6\n",
        "classifier result: 6, real answer 6\n",
        "classifier result: 6, real answer 6\n",
        "classifier result: 4, real answer 4"
       ]
      },
      {
       "output_type": "stream",
       "stream": "stdout",
       "text": [
        "\n",
        "classifier result: 0, real answer 0\n",
        "classifier result: 4, real answer 4\n",
        "classifier result: 4, real answer 4\n",
        "classifier result: 5, real answer 5\n",
        "classifier result: 3, real answer 3"
       ]
      },
      {
       "output_type": "stream",
       "stream": "stdout",
       "text": [
        "\n",
        "classifier result: 5, real answer 5\n",
        "classifier result: 1, real answer 1\n",
        "classifier result: 5, real answer 5\n",
        "classifier result: 5, real answer 5\n",
        "classifier result: 0, real answer 0"
       ]
      },
      {
       "output_type": "stream",
       "stream": "stdout",
       "text": [
        "\n",
        "classifier result: 3, real answer 3\n",
        "classifier result: 9, real answer 9\n",
        "classifier result: 4, real answer 4\n",
        "classifier result: 8, real answer 8\n",
        "classifier result: 7, real answer 7"
       ]
      },
      {
       "output_type": "stream",
       "stream": "stdout",
       "text": [
        "\n",
        "classifier result: 7, real answer 7\n",
        "classifier result: 0, real answer 0\n",
        "classifier result: 5, real answer 5\n",
        "classifier result: 4, real answer 4\n",
        "classifier result: 2, real answer 2"
       ]
      },
      {
       "output_type": "stream",
       "stream": "stdout",
       "text": [
        "\n",
        "classifier result: 1, real answer 1\n",
        "classifier result: 9, real answer 9\n",
        "classifier result: 1, real answer 1\n",
        "classifier result: 6, real answer 6\n",
        "classifier result: 3, real answer 3"
       ]
      },
      {
       "output_type": "stream",
       "stream": "stdout",
       "text": [
        "\n",
        "classifier result: 3, real answer 3\n",
        "classifier result: 8, real answer 8\n",
        "classifier result: 5, real answer 5\n",
        "classifier result: 5, real answer 5\n",
        "classifier result: 7, real answer 7"
       ]
      },
      {
       "output_type": "stream",
       "stream": "stdout",
       "text": [
        "\n",
        "classifier result: 6, real answer 6\n",
        "classifier result: 0, real answer 0\n",
        "classifier result: 7, real answer 7\n",
        "classifier result: 6, real answer 6\n",
        "classifier result: 2, real answer 2"
       ]
      },
      {
       "output_type": "stream",
       "stream": "stdout",
       "text": [
        "\n",
        "classifier result: 6, real answer 6\n",
        "classifier result: 7, real answer 7\n",
        "classifier result: 7, real answer 7\n",
        "classifier result: 6, real answer 6\n",
        "classifier result: 6, real answer 6"
       ]
      },
      {
       "output_type": "stream",
       "stream": "stdout",
       "text": [
        "\n",
        "classifier result: 5, real answer 5\n",
        "classifier result: 8, real answer 8\n",
        "classifier result: 3, real answer 3\n",
        "classifier result: 0, real answer 0\n",
        "classifier result: 9, real answer 9"
       ]
      },
      {
       "output_type": "stream",
       "stream": "stdout",
       "text": [
        "\n",
        "classifier result: 4, real answer 4\n",
        "classifier result: 1, real answer 1\n",
        "classifier result: 2, real answer 2\n",
        "classifier result: 7, real answer 7\n",
        "classifier result: 0, real answer 0"
       ]
      },
      {
       "output_type": "stream",
       "stream": "stdout",
       "text": [
        "\n",
        "classifier result: 4, real answer 4\n",
        "classifier result: 1, real answer 1\n",
        "classifier result: 2, real answer 2\n",
        "classifier result: 1, real answer 1\n",
        "classifier result: 3, real answer 3"
       ]
      },
      {
       "output_type": "stream",
       "stream": "stdout",
       "text": [
        "\n",
        "classifier result: 2, real answer 2\n",
        "classifier result: 1, real answer 1\n",
        "classifier result: 1, real answer 1\n",
        "classifier result: 8, real answer 8\n",
        "classifier result: 2, real answer 2"
       ]
      },
      {
       "output_type": "stream",
       "stream": "stdout",
       "text": [
        "\n",
        "classifier result: 3, real answer 3\n",
        "classifier result: 2, real answer 2\n",
        "classifier result: 1, real answer 1\n",
        "classifier result: 3, real answer 3\n",
        "classifier result: 7, real answer 7"
       ]
      },
      {
       "output_type": "stream",
       "stream": "stdout",
       "text": [
        "\n",
        "classifier result: 1, real answer 1\n",
        "classifier result: 9, real answer 9\n",
        "classifier result: 3, real answer 3\n",
        "classifier result: 5, real answer 5\n",
        "classifier result: 5, real answer 9"
       ]
      },
      {
       "output_type": "stream",
       "stream": "stdout",
       "text": [
        "\n",
        "classifier result: 7, real answer 7\n",
        "classifier result: 8, real answer 8\n",
        "classifier result: 0, real answer 0\n",
        "classifier result: 9, real answer 9\n",
        "classifier result: 9, real answer 9"
       ]
      },
      {
       "output_type": "stream",
       "stream": "stdout",
       "text": [
        "\n",
        "classifier result: 3, real answer 3\n",
        "classifier result: 4, real answer 4\n",
        "classifier result: 7, real answer 7\n",
        "classifier result: 9, real answer 9\n",
        "classifier result: 5, real answer 5"
       ]
      },
      {
       "output_type": "stream",
       "stream": "stdout",
       "text": [
        "\n",
        "classifier result: 2, real answer 2\n",
        "classifier result: 7, real answer 7\n",
        "classifier result: 0, real answer 0\n",
        "classifier result: 8, real answer 8\n",
        "classifier result: 9, real answer 9"
       ]
      },
      {
       "output_type": "stream",
       "stream": "stdout",
       "text": [
        "\n",
        "classifier result: 3, real answer 3\n",
        "classifier result: 1, real answer 1\n",
        "classifier result: 1, real answer 1\n",
        "classifier result: 6, real answer 6\n",
        "classifier result: 1, real answer 8"
       ]
      },
      {
       "output_type": "stream",
       "stream": "stdout",
       "text": [
        "\n",
        "classifier result: 3, real answer 3\n",
        "classifier result: 9, real answer 9\n",
        "classifier result: 1, real answer 1\n",
        "classifier result: 1, real answer 1\n",
        "classifier result: 2, real answer 2"
       ]
      },
      {
       "output_type": "stream",
       "stream": "stdout",
       "text": [
        "\n",
        "classifier result: 3, real answer 3\n",
        "classifier result: 8, real answer 8\n",
        "classifier result: 3, real answer 3\n",
        "classifier result: 2, real answer 2\n",
        "classifier result: 6, real answer 6"
       ]
      },
      {
       "output_type": "stream",
       "stream": "stdout",
       "text": [
        "\n",
        "classifier result: 4, real answer 4\n",
        "classifier result: 9, real answer 9\n",
        "classifier result: 4, real answer 4\n",
        "classifier result: 8, real answer 8\n",
        "classifier result: 6, real answer 6"
       ]
      },
      {
       "output_type": "stream",
       "stream": "stdout",
       "text": [
        "\n",
        "classifier result: 1, real answer 1\n",
        "classifier result: 6, real answer 6\n",
        "classifier result: 3, real answer 3\n",
        "classifier result: 5, real answer 5\n",
        "classifier result: 0, real answer 0"
       ]
      },
      {
       "output_type": "stream",
       "stream": "stdout",
       "text": [
        "\n",
        "classifier result: 6, real answer 6\n",
        "classifier result: 3, real answer 3\n",
        "classifier result: 6, real answer 6\n",
        "classifier result: 3, real answer 3\n",
        "classifier result: 2, real answer 2"
       ]
      },
      {
       "output_type": "stream",
       "stream": "stdout",
       "text": [
        "\n",
        "classifier result: 3, real answer 3\n",
        "classifier result: 4, real answer 4\n",
        "classifier result: 8, real answer 8\n",
        "classifier result: 9, real answer 9\n",
        "classifier result: 6, real answer 6"
       ]
      },
      {
       "output_type": "stream",
       "stream": "stdout",
       "text": [
        "\n",
        "classifier result: 7, real answer 7\n",
        "classifier result: 8, real answer 8\n",
        "classifier result: 3, real answer 3\n",
        "classifier result: 6, real answer 6\n",
        "classifier result: 6, real answer 6"
       ]
      },
      {
       "output_type": "stream",
       "stream": "stdout",
       "text": [
        "\n",
        "classifier result: 4, real answer 4\n",
        "classifier result: 8, real answer 8\n",
        "classifier result: 1, real answer 1\n",
        "classifier result: 4, real answer 4\n",
        "classifier result: 4, real answer 4"
       ]
      },
      {
       "output_type": "stream",
       "stream": "stdout",
       "text": [
        "\n",
        "classifier result: 1, real answer 1\n",
        "classifier result: 5, real answer 5\n",
        "classifier result: 5, real answer 5\n",
        "classifier result: 8, real answer 8\n",
        "classifier result: 3, real answer 3"
       ]
      },
      {
       "output_type": "stream",
       "stream": "stdout",
       "text": [
        "\n",
        "classifier result: 6, real answer 6\n",
        "classifier result: 5, real answer 5\n",
        "classifier result: 1, real answer 1\n",
        "classifier result: 4, real answer 4\n",
        "classifier result: 4, real answer 4"
       ]
      },
      {
       "output_type": "stream",
       "stream": "stdout",
       "text": [
        "\n",
        "classifier result: 4, real answer 4\n",
        "classifier result: 0, real answer 0\n",
        "classifier result: 7, real answer 7\n",
        "classifier result: 4, real answer 4\n",
        "classifier result: 0, real answer 0"
       ]
      },
      {
       "output_type": "stream",
       "stream": "stdout",
       "text": [
        "\n",
        "classifier result: 3, real answer 3\n",
        "classifier result: 9, real answer 9\n",
        "classifier result: 3, real answer 3\n",
        "classifier result: 0, real answer 0\n",
        "classifier result: 5, real answer 5"
       ]
      },
      {
       "output_type": "stream",
       "stream": "stdout",
       "text": [
        "\n",
        "classifier result: 6, real answer 6\n",
        "classifier result: 5, real answer 5\n",
        "classifier result: 8, real answer 8\n",
        "classifier result: 0, real answer 0\n",
        "classifier result: 2, real answer 2"
       ]
      },
      {
       "output_type": "stream",
       "stream": "stdout",
       "text": [
        "\n",
        "classifier result: 0, real answer 0\n",
        "classifier result: 4, real answer 4\n",
        "classifier result: 1, real answer 1\n",
        "classifier result: 0, real answer 0\n",
        "classifier result: 1, real answer 1"
       ]
      },
      {
       "output_type": "stream",
       "stream": "stdout",
       "text": [
        "\n",
        "classifier result: 1, real answer 1\n",
        "classifier result: 3, real answer 3\n",
        "classifier result: 9, real answer 9\n",
        "classifier result: 6, real answer 6\n",
        "classifier result: 0, real answer 0"
       ]
      },
      {
       "output_type": "stream",
       "stream": "stdout",
       "text": [
        "\n",
        "classifier result: 4, real answer 4\n",
        "classifier result: 1, real answer 1\n",
        "classifier result: 4, real answer 4\n",
        "classifier result: 3, real answer 3\n",
        "classifier result: 7, real answer 7"
       ]
      },
      {
       "output_type": "stream",
       "stream": "stdout",
       "text": [
        "\n",
        "classifier result: 4, real answer 4\n",
        "classifier result: 7, real answer 7\n",
        "classifier result: 3, real answer 3\n",
        "classifier result: 9, real answer 9\n",
        "classifier result: 9, real answer 9"
       ]
      },
      {
       "output_type": "stream",
       "stream": "stdout",
       "text": [
        "\n",
        "classifier result: 2, real answer 2\n",
        "classifier result: 4, real answer 4\n",
        "classifier result: 3, real answer 3\n",
        "classifier result: 2, real answer 2\n",
        "classifier result: 6, real answer 6"
       ]
      },
      {
       "output_type": "stream",
       "stream": "stdout",
       "text": [
        "\n",
        "classifier result: 2, real answer 2\n",
        "classifier result: 4, real answer 4\n",
        "classifier result: 1, real answer 1\n",
        "classifier result: 5, real answer 5\n",
        "classifier result: 9, real answer 9"
       ]
      },
      {
       "output_type": "stream",
       "stream": "stdout",
       "text": [
        "\n",
        "classifier result: 9, real answer 9\n",
        "classifier result: 4, real answer 4\n",
        "classifier result: 4, real answer 4\n",
        "classifier result: 4, real answer 4\n",
        "classifier result: 0, real answer 0"
       ]
      },
      {
       "output_type": "stream",
       "stream": "stdout",
       "text": [
        "\n",
        "classifier result: 4, real answer 4\n",
        "classifier result: 0, real answer 0\n",
        "classifier result: 4, real answer 4\n",
        "classifier result: 4, real answer 4\n",
        "classifier result: 6, real answer 6"
       ]
      },
      {
       "output_type": "stream",
       "stream": "stdout",
       "text": [
        "\n",
        "classifier result: 4, real answer 4\n",
        "classifier result: 2, real answer 2\n",
        "classifier result: 4, real answer 4\n",
        "classifier result: 2, real answer 2\n",
        "classifier result: 0, real answer 0"
       ]
      },
      {
       "output_type": "stream",
       "stream": "stdout",
       "text": [
        "\n",
        "classifier result: 9, real answer 9\n",
        "classifier result: 5, real answer 5\n",
        "classifier result: 1, real answer 1\n",
        "classifier result: 2, real answer 2\n",
        "classifier result: 7, real answer 7"
       ]
      },
      {
       "output_type": "stream",
       "stream": "stdout",
       "text": [
        "\n",
        "classifier result: 9, real answer 9\n",
        "classifier result: 4, real answer 4\n",
        "classifier result: 5, real answer 5\n",
        "classifier result: 6, real answer 6\n",
        "classifier result: 2, real answer 2"
       ]
      },
      {
       "output_type": "stream",
       "stream": "stdout",
       "text": [
        "\n",
        "classifier result: 7, real answer 7\n",
        "classifier result: 6, real answer 6\n",
        "classifier result: 9, real answer 9\n",
        "classifier result: 8, real answer 8\n",
        "classifier result: 0, real answer 0"
       ]
      },
      {
       "output_type": "stream",
       "stream": "stdout",
       "text": [
        "\n",
        "classifier result: 4, real answer 4\n",
        "classifier result: 1, real answer 1\n",
        "classifier result: 1, real answer 1\n",
        "classifier result: 0, real answer 0\n",
        "classifier result: 0, real answer 0"
       ]
      },
      {
       "output_type": "stream",
       "stream": "stdout",
       "text": [
        "\n",
        "classifier result: 1, real answer 1\n",
        "classifier result: 4, real answer 4\n",
        "classifier result: 0, real answer 0\n",
        "classifier result: 2, real answer 2\n",
        "classifier result: 0, real answer 0"
       ]
      },
      {
       "output_type": "stream",
       "stream": "stdout",
       "text": [
        "\n",
        "classifier result: 6, real answer 6\n",
        "classifier result: 1, real answer 1\n",
        "classifier result: 5, real answer 5\n",
        "classifier result: 7, real answer 7\n",
        "classifier result: 8, real answer 8"
       ]
      },
      {
       "output_type": "stream",
       "stream": "stdout",
       "text": [
        "\n",
        "classifier result: 2, real answer 2\n",
        "classifier result: 5, real answer 5\n",
        "classifier result: 1, real answer 1\n",
        "classifier result: 5, real answer 5\n",
        "classifier result: 7, real answer 7"
       ]
      },
      {
       "output_type": "stream",
       "stream": "stdout",
       "text": [
        "\n",
        "classifier result: 1, real answer 1\n",
        "classifier result: 1, real answer 1\n",
        "classifier result: 7, real answer 7\n",
        "classifier result: 6, real answer 6\n",
        "classifier result: 8, real answer 8"
       ]
      },
      {
       "output_type": "stream",
       "stream": "stdout",
       "text": [
        "\n",
        "classifier result: 5, real answer 5\n",
        "classifier result: 9, real answer 9\n",
        "classifier result: 9, real answer 9\n",
        "classifier result: 8, real answer 8\n",
        "classifier result: 2, real answer 2"
       ]
      },
      {
       "output_type": "stream",
       "stream": "stdout",
       "text": [
        "\n",
        "classifier result: 5, real answer 5\n",
        "classifier result: 2, real answer 2\n",
        "classifier result: 9, real answer 9\n",
        "classifier result: 9, real answer 9\n",
        "classifier result: 1, real answer 1"
       ]
      },
      {
       "output_type": "stream",
       "stream": "stdout",
       "text": [
        "\n",
        "classifier result: 2, real answer 2\n",
        "classifier result: 8, real answer 8\n",
        "classifier result: 0, real answer 0\n",
        "classifier result: 8, real answer 8\n",
        "classifier result: 6, real answer 6"
       ]
      },
      {
       "output_type": "stream",
       "stream": "stdout",
       "text": [
        "\n",
        "classifier result: 8, real answer 8\n",
        "classifier result: 8, real answer 8\n",
        "classifier result: 1, real answer 1\n",
        "classifier result: 9, real answer 9\n",
        "classifier result: 5, real answer 5"
       ]
      },
      {
       "output_type": "stream",
       "stream": "stdout",
       "text": [
        "\n",
        "classifier result: 5, real answer 5\n",
        "classifier result: 6, real answer 6\n",
        "classifier result: 5, real answer 5\n",
        "classifier result: 4, real answer 4\n",
        "classifier result: 9, real answer 9"
       ]
      },
      {
       "output_type": "stream",
       "stream": "stdout",
       "text": [
        "\n",
        "classifier result: 2, real answer 2\n",
        "classifier result: 6, real answer 6\n",
        "classifier result: 5, real answer 5\n",
        "classifier result: 9, real answer 9\n",
        "classifier result: 4, real answer 4"
       ]
      },
      {
       "output_type": "stream",
       "stream": "stdout",
       "text": [
        "\n",
        "classifier result: 7, real answer 7\n",
        "classifier result: 3, real answer 3\n",
        "classifier result: 8, real answer 8\n",
        "classifier result: 2, real answer 2\n",
        "classifier result: 5, real answer 5"
       ]
      },
      {
       "output_type": "stream",
       "stream": "stdout",
       "text": [
        "\n",
        "classifier result: 1, real answer 1\n",
        "classifier result: 7, real answer 7\n",
        "classifier result: 9, real answer 5\n",
        "classifier result: 2, real answer 2\n",
        "classifier result: 4, real answer 4"
       ]
      },
      {
       "output_type": "stream",
       "stream": "stdout",
       "text": [
        "\n",
        "classifier result: 6, real answer 6\n",
        "classifier result: 6, real answer 6\n",
        "classifier result: 9, real answer 9\n",
        "classifier result: 8, real answer 8\n",
        "classifier result: 8, real answer 8"
       ]
      },
      {
       "output_type": "stream",
       "stream": "stdout",
       "text": [
        "\n",
        "classifier result: 7, real answer 7\n",
        "classifier result: 8, real answer 8\n",
        "classifier result: 5, real answer 5\n",
        "classifier result: 7, real answer 7\n",
        "classifier result: 7, real answer 7"
       ]
      },
      {
       "output_type": "stream",
       "stream": "stdout",
       "text": [
        "\n",
        "classifier result: 4, real answer 4\n",
        "classifier result: 5, real answer 5\n",
        "classifier result: 9, real answer 9\n",
        "classifier result: 4, real answer 4\n",
        "classifier result: 7, real answer 7"
       ]
      },
      {
       "output_type": "stream",
       "stream": "stdout",
       "text": [
        "\n",
        "classifier result: 7, real answer 7\n",
        "classifier result: 5, real answer 5\n",
        "classifier result: 0, real answer 0\n",
        "classifier result: 3, real answer 3\n",
        "classifier result: 9, real answer 9"
       ]
      },
      {
       "output_type": "stream",
       "stream": "stdout",
       "text": [
        "\n",
        "classifier result: 3, real answer 3\n",
        "classifier result: 6, real answer 6\n",
        "classifier result: 4, real answer 4\n",
        "classifier result: 9, real answer 9\n",
        "classifier result: 7, real answer 7"
       ]
      },
      {
       "output_type": "stream",
       "stream": "stdout",
       "text": [
        "\n",
        "classifier result: 0, real answer 0\n",
        "classifier result: 5, real answer 5\n",
        "classifier result: 7, real answer 7\n",
        "classifier result: 5, real answer 5\n",
        "classifier result: 7, real answer 7"
       ]
      },
      {
       "output_type": "stream",
       "stream": "stdout",
       "text": [
        "\n",
        "classifier result: 0, real answer 0\n",
        "classifier result: 1, real answer 1\n",
        "classifier result: 9, real answer 9\n",
        "classifier result: 9, real answer 9\n",
        "classifier result: 6, real answer 6"
       ]
      },
      {
       "output_type": "stream",
       "stream": "stdout",
       "text": [
        "\n",
        "classifier result: 4, real answer 4\n",
        "classifier result: 7, real answer 7\n",
        "classifier result: 7, real answer 7\n",
        "classifier result: 9, real answer 9\n",
        "classifier result: 4, real answer 4"
       ]
      },
      {
       "output_type": "stream",
       "stream": "stdout",
       "text": [
        "\n",
        "classifier result: 8, real answer 8\n",
        "classifier result: 6, real answer 6\n",
        "classifier result: 4, real answer 4\n",
        "classifier result: 0, real answer 0\n",
        "classifier result: 9, real answer 9"
       ]
      },
      {
       "output_type": "stream",
       "stream": "stdout",
       "text": [
        "\n",
        "classifier result: 8, real answer 8\n",
        "classifier result: 0, real answer 0\n",
        "classifier result: 8, real answer 8\n",
        "classifier result: 8, real answer 8\n",
        "classifier result: 0, real answer 0"
       ]
      },
      {
       "output_type": "stream",
       "stream": "stdout",
       "text": [
        "\n",
        "classifier result: 3, real answer 3\n",
        "classifier result: 3, real answer 3\n",
        "classifier result: 6, real answer 6\n",
        "classifier result: 3, real answer 5\n",
        "classifier result: 6, real answer 6"
       ]
      },
      {
       "output_type": "stream",
       "stream": "stdout",
       "text": [
        "\n",
        "classifier result: 5, real answer 5\n",
        "classifier result: 4, real answer 4\n",
        "classifier result: 3, real answer 3\n",
        "classifier result: 1, real answer 1\n",
        "classifier result: 5, real answer 5"
       ]
      },
      {
       "output_type": "stream",
       "stream": "stdout",
       "text": [
        "\n",
        "classifier result: 9, real answer 9\n",
        "classifier result: 2, real answer 2\n",
        "classifier result: 4, real answer 4\n",
        "classifier result: 2, real answer 2\n",
        "classifier result: 9, real answer 9"
       ]
      },
      {
       "output_type": "stream",
       "stream": "stdout",
       "text": [
        "\n",
        "classifier result: 2, real answer 2\n",
        "classifier result: 8, real answer 8\n",
        "classifier result: 0, real answer 0\n",
        "classifier result: 3, real answer 3\n",
        "classifier result: 7, real answer 7"
       ]
      },
      {
       "output_type": "stream",
       "stream": "stdout",
       "text": [
        "\n",
        "classifier result: 0, real answer 0\n",
        "classifier result: 3, real answer 3\n",
        "classifier result: 2, real answer 2\n",
        "classifier result: 8, real answer 8\n",
        "classifier result: 7, real answer 9"
       ]
      },
      {
       "output_type": "stream",
       "stream": "stdout",
       "text": [
        "\n",
        "classifier result: 0, real answer 4\n",
        "classifier result: 1, real answer 1\n",
        "classifier result: 4, real answer 4\n",
        "classifier result: 9, real answer 9\n",
        "classifier result: 5, real answer 5"
       ]
      },
      {
       "output_type": "stream",
       "stream": "stdout",
       "text": [
        "\n",
        "classifier result: 2, real answer 2\n",
        "classifier result: 7, real answer 7\n",
        "classifier result: 5, real answer 5\n",
        "classifier result: 6, real answer 6\n",
        "classifier result: 1, real answer 8"
       ]
      },
      {
       "output_type": "stream",
       "stream": "stdout",
       "text": [
        "\n",
        "classifier result: 6, real answer 6\n",
        "classifier result: 9, real answer 9\n",
        "classifier result: 2, real answer 2\n",
        "classifier result: 1, real answer 1\n",
        "classifier result: 3, real answer 3"
       ]
      },
      {
       "output_type": "stream",
       "stream": "stdout",
       "text": [
        "\n",
        "classifier result: 1, real answer 1\n",
        "classifier result: 1, real answer 1\n",
        "classifier result: 5, real answer 5\n",
        "classifier result: 9, real answer 9\n",
        "classifier result: 7, real answer 7"
       ]
      },
      {
       "output_type": "stream",
       "stream": "stdout",
       "text": [
        "\n",
        "classifier result: 2, real answer 2\n",
        "classifier result: 2, real answer 2\n",
        "classifier result: 5, real answer 5\n",
        "classifier result: 6, real answer 6\n",
        "classifier result: 4, real answer 4"
       ]
      },
      {
       "output_type": "stream",
       "stream": "stdout",
       "text": [
        "\n",
        "classifier result: 1, real answer 1\n",
        "classifier result: 4, real answer 4\n",
        "classifier result: 0, real answer 0\n",
        "classifier result: 2, real answer 2\n",
        "classifier result: 4, real answer 4"
       ]
      },
      {
       "output_type": "stream",
       "stream": "stdout",
       "text": [
        "\n",
        "classifier result: 7, real answer 7\n",
        "classifier result: 7, real answer 7\n",
        "classifier result: 4, real answer 4\n",
        "classifier result: 5, real answer 5\n",
        "classifier result: 5, real answer 5"
       ]
      },
      {
       "output_type": "stream",
       "stream": "stdout",
       "text": [
        "\n",
        "classifier result: 4, real answer 4\n",
        "classifier result: 3, real answer 3\n",
        "classifier result: 1, real answer 1\n",
        "classifier result: 7, real answer 7\n",
        "classifier result: 2, real answer 2"
       ]
      },
      {
       "output_type": "stream",
       "stream": "stdout",
       "text": [
        "\n",
        "classifier result: 8, real answer 8\n",
        "classifier result: 6, real answer 6\n",
        "classifier result: 5, real answer 5\n",
        "classifier result: 1, real answer 1\n",
        "classifier result: 6, real answer 6"
       ]
      },
      {
       "output_type": "stream",
       "stream": "stdout",
       "text": [
        "\n",
        "classifier result: 7, real answer 7\n",
        "classifier result: 6, real answer 6\n",
        "classifier result: 3, real answer 3\n",
        "classifier result: 5, real answer 5\n",
        "classifier result: 2, real answer 2"
       ]
      },
      {
       "output_type": "stream",
       "stream": "stdout",
       "text": [
        "\n",
        "classifier result: 5, real answer 5\n",
        "classifier result: 6, real answer 6\n",
        "classifier result: 2, real answer 2\n",
        "classifier result: 9, real answer 9\n",
        "classifier result: 6, real answer 6"
       ]
      },
      {
       "output_type": "stream",
       "stream": "stdout",
       "text": [
        "\n",
        "classifier result: 7, real answer 7\n",
        "classifier result: 8, real answer 8\n",
        "classifier result: 5, real answer 5\n",
        "classifier result: 0, real answer 0\n",
        "classifier result: 9, real answer 9"
       ]
      },
      {
       "output_type": "stream",
       "stream": "stdout",
       "text": [
        "\n",
        "classifier result: 5, real answer 5\n",
        "classifier result: 3, real answer 3\n",
        "classifier result: 3, real answer 3\n",
        "classifier result: 8, real answer 8\n",
        "classifier result: 6, real answer 6"
       ]
      },
      {
       "output_type": "stream",
       "stream": "stdout",
       "text": [
        "\n",
        "classifier result: 1, real answer 1\n",
        "classifier result: 2, real answer 2\n",
        "classifier result: 5, real answer 5\n",
        "classifier result: 5, real answer 5\n",
        "classifier result: 8, real answer 8"
       ]
      },
      {
       "output_type": "stream",
       "stream": "stdout",
       "text": [
        "\n",
        "classifier result: 8, real answer 8\n",
        "classifier result: 2, real answer 2\n",
        "classifier result: 9, real answer 9\n",
        "classifier result: 4, real answer 4\n",
        "classifier result: 0, real answer 0"
       ]
      },
      {
       "output_type": "stream",
       "stream": "stdout",
       "text": [
        "\n",
        "classifier result: 0, real answer 0\n",
        "classifier result: 0, real answer 0\n",
        "classifier result: 2, real answer 2\n",
        "classifier result: 7, real answer 7\n",
        "classifier result: 4, real answer 4"
       ]
      },
      {
       "output_type": "stream",
       "stream": "stdout",
       "text": [
        "\n",
        "classifier result: 5, real answer 5\n",
        "classifier result: 0, real answer 0\n",
        "classifier result: 5, real answer 5\n",
        "classifier result: 6, real answer 6\n",
        "classifier result: 7, real answer 7"
       ]
      },
      {
       "output_type": "stream",
       "stream": "stdout",
       "text": [
        "\n",
        "classifier result: 7, real answer 7\n",
        "classifier result: 7, real answer 7\n",
        "classifier result: 2, real answer 2\n",
        "classifier result: 0, real answer 0\n",
        "classifier result: 0, real answer 0"
       ]
      },
      {
       "output_type": "stream",
       "stream": "stdout",
       "text": [
        "\n",
        "classifier result: 3, real answer 3\n",
        "classifier result: 9, real answer 9\n",
        "classifier result: 1, real answer 1\n",
        "classifier result: 2, real answer 2\n",
        "classifier result: 8, real answer 8"
       ]
      },
      {
       "output_type": "stream",
       "stream": "stdout",
       "text": [
        "\n",
        "classifier result: 5, real answer 5\n",
        "classifier result: 4, real answer 4\n",
        "classifier result: 2, real answer 2\n",
        "classifier result: 8, real answer 8\n",
        "classifier result: 8, real answer 8"
       ]
      },
      {
       "output_type": "stream",
       "stream": "stdout",
       "text": [
        "\n",
        "classifier result: 8, real answer 8\n",
        "classifier result: 0, real answer 0\n",
        "classifier result: 8, real answer 8\n",
        "classifier result: 7, real answer 7\n",
        "classifier result: 1, real answer 1"
       ]
      },
      {
       "output_type": "stream",
       "stream": "stdout",
       "text": [
        "\n",
        "classifier result: 2, real answer 2\n",
        "classifier result: 7, real answer 7\n",
        "classifier result: 6, real answer 6\n",
        "classifier result: 6, real answer 6\n",
        "classifier result: 1, real answer 8"
       ]
      },
      {
       "output_type": "stream",
       "stream": "stdout",
       "text": [
        "\n",
        "classifier result: 4, real answer 4\n",
        "classifier result: 8, real answer 8\n",
        "classifier result: 7, real answer 7\n",
        "classifier result: 4, real answer 4\n",
        "classifier result: 3, real answer 3"
       ]
      },
      {
       "output_type": "stream",
       "stream": "stdout",
       "text": [
        "\n",
        "classifier result: 5, real answer 5\n",
        "classifier result: 9, real answer 9\n",
        "classifier result: 5, real answer 5\n",
        "classifier result: 5, real answer 5\n",
        "classifier result: 3, real answer 8"
       ]
      },
      {
       "output_type": "stream",
       "stream": "stdout",
       "text": [
        "\n",
        "classifier result: 5, real answer 5\n",
        "classifier result: 9, real answer 9\n",
        "classifier result: 6, real answer 6\n",
        "classifier result: 4, real answer 4\n",
        "classifier result: 4, real answer 4"
       ]
      },
      {
       "output_type": "stream",
       "stream": "stdout",
       "text": [
        "\n",
        "classifier result: 5, real answer 5\n",
        "classifier result: 5, real answer 5\n",
        "classifier result: 1, real answer 1\n",
        "classifier result: 9, real answer 9\n",
        "classifier result: 7, real answer 7"
       ]
      },
      {
       "output_type": "stream",
       "stream": "stdout",
       "text": [
        "\n",
        "classifier result: 1, real answer 9\n",
        "classifier result: 9, real answer 9\n",
        "classifier result: 8, real answer 8\n",
        "classifier result: 8, real answer 8\n",
        "classifier result: 4, real answer 4\n",
        "classifier result: 9, real answer 9"
       ]
      },
      {
       "output_type": "stream",
       "stream": "stdout",
       "text": [
        "\n",
        "classifier result: 1, real answer 1\n",
        "classifier result: 0, real answer 0\n",
        "classifier result: 0, real answer 0\n",
        "classifier result: 0, real answer 0\n",
        "classifier result: 8, real answer 8"
       ]
      },
      {
       "output_type": "stream",
       "stream": "stdout",
       "text": [
        "\n",
        "classifier result: 3, real answer 3\n",
        "classifier result: 4, real answer 4\n",
        "classifier result: 2, real answer 2\n",
        "classifier result: 4, real answer 4\n",
        "classifier result: 7, real answer 7"
       ]
      },
      {
       "output_type": "stream",
       "stream": "stdout",
       "text": [
        "\n",
        "classifier result: 9, real answer 9\n",
        "classifier result: 9, real answer 9\n",
        "classifier result: 4, real answer 4\n",
        "classifier result: 2, real answer 2\n",
        "classifier result: 5, real answer 5"
       ]
      },
      {
       "output_type": "stream",
       "stream": "stdout",
       "text": [
        "\n",
        "classifier result: 2, real answer 2\n",
        "classifier result: 7, real answer 7\n",
        "classifier result: 9, real answer 9\n",
        "classifier result: 2, real answer 2\n",
        "classifier result: 4, real answer 4"
       ]
      },
      {
       "output_type": "stream",
       "stream": "stdout",
       "text": [
        "\n",
        "classifier result: 2, real answer 2\n",
        "classifier result: 8, real answer 8\n",
        "classifier result: 7, real answer 7\n",
        "classifier result: 5, real answer 5\n",
        "classifier result: 3, real answer 3"
       ]
      },
      {
       "output_type": "stream",
       "stream": "stdout",
       "text": [
        "\n",
        "classifier result: 8, real answer 8\n",
        "classifier result: 1, real answer 1\n",
        "classifier result: 6, real answer 6\n",
        "classifier result: 3, real answer 3\n",
        "classifier result: 4, real answer 4"
       ]
      },
      {
       "output_type": "stream",
       "stream": "stdout",
       "text": [
        "\n",
        "classifier result: 2, real answer 2\n",
        "classifier result: 2, real answer 2\n",
        "classifier result: 9, real answer 9\n",
        "classifier result: 4, real answer 4\n",
        "classifier result: 3, real answer 3"
       ]
      },
      {
       "output_type": "stream",
       "stream": "stdout",
       "text": [
        "\n",
        "classifier result: 7, real answer 7\n",
        "classifier result: 7, real answer 7\n",
        "classifier result: 2, real answer 2\n",
        "classifier result: 6, real answer 6\n",
        "classifier result: 6, real answer 6"
       ]
      },
      {
       "output_type": "stream",
       "stream": "stdout",
       "text": [
        "\n",
        "classifier result: 6, real answer 6\n",
        "classifier result: 5, real answer 5\n",
        "classifier result: 3, real answer 3\n",
        "classifier result: 1, real answer 1\n",
        "classifier result: 5, real answer 5"
       ]
      },
      {
       "output_type": "stream",
       "stream": "stdout",
       "text": [
        "\n",
        "classifier result: 4, real answer 4\n",
        "classifier result: 8, real answer 8\n",
        "classifier result: 3, real answer 3\n",
        "classifier result: 3, real answer 3\n",
        "classifier result: 2, real answer 2"
       ]
      },
      {
       "output_type": "stream",
       "stream": "stdout",
       "text": [
        "\n",
        "classifier result: 7, real answer 7\n",
        "classifier result: 3, real answer 3\n",
        "classifier result: 6, real answer 6\n",
        "classifier result: 3, real answer 3\n",
        "classifier result: 1, real answer 1\n",
        "classifier result: 7, real answer 7"
       ]
      },
      {
       "output_type": "stream",
       "stream": "stdout",
       "text": [
        "\n",
        "classifier result: 9, real answer 9\n",
        "classifier result: 4, real answer 5\n",
        "classifier result: 2, real answer 2\n",
        "classifier result: 4, real answer 4\n",
        "classifier result: 5, real answer 5\n",
        "classifier result: 8, real answer 8"
       ]
      },
      {
       "output_type": "stream",
       "stream": "stdout",
       "text": [
        "\n",
        "classifier result: 5, real answer 5\n",
        "classifier result: 6, real answer 6\n",
        "classifier result: 7, real answer 7\n",
        "classifier result: 1, real answer 1\n",
        "classifier result: 0, real answer 0\n",
        "classifier result: 2, real answer 2"
       ]
      },
      {
       "output_type": "stream",
       "stream": "stdout",
       "text": [
        "\n",
        "classifier result: 4, real answer 4\n",
        "classifier result: 4, real answer 4\n",
        "classifier result: 1, real answer 1\n",
        "classifier result: 0, real answer 0\n",
        "classifier result: 6, real answer 6"
       ]
      },
      {
       "output_type": "stream",
       "stream": "stdout",
       "text": [
        "\n",
        "classifier result: 2, real answer 2\n",
        "classifier result: 4, real answer 4\n",
        "classifier result: 9, real answer 9\n",
        "classifier result: 9, real answer 9\n",
        "classifier result: 4, real answer 4\n",
        "classifier result: 8, real answer 8"
       ]
      },
      {
       "output_type": "stream",
       "stream": "stdout",
       "text": [
        "\n",
        "classifier result: 3, real answer 3\n",
        "classifier result: 6, real answer 6\n",
        "classifier result: 0, real answer 0\n",
        "classifier result: 3, real answer 3\n",
        "classifier result: 9, real answer 9"
       ]
      },
      {
       "output_type": "stream",
       "stream": "stdout",
       "text": [
        "\n",
        "classifier result: 6, real answer 6\n",
        "classifier result: 6, real answer 6\n",
        "classifier result: 7, real answer 7\n",
        "classifier result: 7, real answer 7\n",
        "classifier result: 9, real answer 9\n",
        "classifier result: 0, real answer 0"
       ]
      },
      {
       "output_type": "stream",
       "stream": "stdout",
       "text": [
        "\n",
        "classifier result: 1, real answer 1\n",
        "classifier result: 3, real answer 3\n",
        "classifier result: 5, real answer 5\n",
        "classifier result: 9, real answer 9\n",
        "classifier result: 0, real answer 0\n",
        "classifier result: 5, real answer 5"
       ]
      },
      {
       "output_type": "stream",
       "stream": "stdout",
       "text": [
        "\n",
        "classifier result: 2, real answer 2\n",
        "classifier result: 1, real answer 1\n",
        "classifier result: 7, real answer 7\n",
        "classifier result: 6, real answer 6\n",
        "classifier result: 2, real answer 2"
       ]
      },
      {
       "output_type": "stream",
       "stream": "stdout",
       "text": [
        "\n",
        "classifier result: 2, real answer 2\n",
        "classifier result: 9, real answer 9\n",
        "classifier result: 5, real answer 5\n",
        "classifier result: 3, real answer 3\n",
        "classifier result: 9, real answer 9"
       ]
      },
      {
       "output_type": "stream",
       "stream": "stdout",
       "text": [
        "\n",
        "classifier result: 4, real answer 4\n",
        "classifier result: 5, real answer 5\n",
        "classifier result: 0, real answer 0\n",
        "classifier result: 1, real answer 1\n",
        "classifier result: 2, real answer 2\n",
        "classifier result: 1, real answer 1"
       ]
      },
      {
       "output_type": "stream",
       "stream": "stdout",
       "text": [
        "\n",
        "classifier result: 0, real answer 0\n",
        "classifier result: 4, real answer 4\n",
        "classifier result: 7, real answer 7\n",
        "classifier result: 3, real answer 3\n",
        "classifier result: 4, real answer 4\n",
        "classifier result: 6, real answer 6"
       ]
      },
      {
       "output_type": "stream",
       "stream": "stdout",
       "text": [
        "\n",
        "classifier result: 2, real answer 2\n",
        "classifier result: 2, real answer 2\n",
        "classifier result: 2, real answer 2\n",
        "classifier result: 5, real answer 5\n",
        "classifier result: 3, real answer 3\n",
        "classifier result: 4, real answer 4"
       ]
      },
      {
       "output_type": "stream",
       "stream": "stdout",
       "text": [
        "\n",
        "classifier result: 0, real answer 0\n",
        "classifier result: 8, real answer 8\n",
        "classifier result: 1, real answer 1\n",
        "classifier result: 3, real answer 3\n",
        "classifier result: 1, real answer 1"
       ]
      },
      {
       "output_type": "stream",
       "stream": "stdout",
       "text": [
        "\n",
        "classifier result: 4, real answer 4\n",
        "classifier result: 2, real answer 2\n",
        "classifier result: 9, real answer 9\n",
        "classifier result: 8, real answer 8\n",
        "classifier result: 5, real answer 5"
       ]
      },
      {
       "output_type": "stream",
       "stream": "stdout",
       "text": [
        "\n",
        "classifier result: 2, real answer 2\n",
        "classifier result: 8, real answer 8\n",
        "classifier result: 2, real answer 2\n",
        "classifier result: 7, real answer 7\n",
        "classifier result: 4, real answer 4\n",
        "classifier result: 5, real answer 5"
       ]
      },
      {
       "output_type": "stream",
       "stream": "stdout",
       "text": [
        "\n",
        "classifier result: 6, real answer 6\n",
        "classifier result: 8, real answer 8\n",
        "classifier result: 2, real answer 2\n",
        "classifier result: 0, real answer 0\n",
        "classifier result: 6, real answer 6\n",
        "classifier result: 8, real answer 8"
       ]
      },
      {
       "output_type": "stream",
       "stream": "stdout",
       "text": [
        "\n",
        "classifier result: 8, real answer 8\n",
        "classifier result: 4, real answer 4\n",
        "classifier result: 4, real answer 4\n",
        "classifier result: 6, real answer 6\n",
        "classifier result: 2, real answer 2"
       ]
      },
      {
       "output_type": "stream",
       "stream": "stdout",
       "text": [
        "\n",
        "classifier result: 1, real answer 1\n",
        "classifier result: 6, real answer 6\n",
        "classifier result: 2, real answer 2\n",
        "classifier result: 2, real answer 2\n",
        "classifier result: 5, real answer 5"
       ]
      },
      {
       "output_type": "stream",
       "stream": "stdout",
       "text": [
        "\n",
        "classifier result: 0, real answer 0\n",
        "classifier result: 8, real answer 8\n",
        "classifier result: 0, real answer 0\n",
        "classifier result: 5, real answer 5\n",
        "classifier result: 9, real answer 9"
       ]
      },
      {
       "output_type": "stream",
       "stream": "stdout",
       "text": [
        "\n",
        "classifier result: 1, real answer 1\n",
        "classifier result: 2, real answer 2\n",
        "classifier result: 8, real answer 8\n",
        "classifier result: 0, real answer 0\n",
        "classifier result: 1, real answer 1\n",
        "classifier result: 5, real answer 5"
       ]
      },
      {
       "output_type": "stream",
       "stream": "stdout",
       "text": [
        "\n",
        "classifier result: 9, real answer 9\n",
        "classifier result: 1, real answer 8\n",
        "classifier result: 0, real answer 0\n",
        "classifier result: 5, real answer 5\n",
        "classifier result: 5, real answer 5\n",
        "classifier result: 6, real answer 6"
       ]
      },
      {
       "output_type": "stream",
       "stream": "stdout",
       "text": [
        "\n",
        "classifier result: 9, real answer 9\n",
        "classifier result: 1, real answer 1\n",
        "classifier result: 5, real answer 5\n",
        "classifier result: 8, real answer 8\n",
        "classifier result: 2, real answer 2\n",
        "classifier result: 5, real answer 5"
       ]
      },
      {
       "output_type": "stream",
       "stream": "stdout",
       "text": [
        "\n",
        "classifier result: 9, real answer 9\n",
        "classifier result: 5, real answer 5\n",
        "classifier result: 8, real answer 8\n",
        "classifier result: 1, real answer 1\n",
        "classifier result: 0, real answer 0"
       ]
      },
      {
       "output_type": "stream",
       "stream": "stdout",
       "text": [
        "\n",
        "classifier result: 7, real answer 7\n",
        "classifier result: 7, real answer 7\n",
        "classifier result: 2, real answer 2\n",
        "classifier result: 4, real answer 4\n",
        "classifier result: 8, real answer 8"
       ]
      },
      {
       "output_type": "stream",
       "stream": "stdout",
       "text": [
        "\n",
        "classifier result: 9, real answer 9\n",
        "classifier result: 3, real answer 3\n",
        "classifier result: 2, real answer 2\n",
        "classifier result: 8, real answer 8\n",
        "classifier result: 8, real answer 8\n",
        "classifier result: 2, real answer 2"
       ]
      },
      {
       "output_type": "stream",
       "stream": "stdout",
       "text": [
        "\n",
        "classifier result: 1, real answer 1\n",
        "classifier result: 2, real answer 2\n",
        "classifier result: 5, real answer 5\n",
        "classifier result: 8, real answer 8\n",
        "classifier result: 1, real answer 1\n",
        "classifier result: 4, real answer 4"
       ]
      },
      {
       "output_type": "stream",
       "stream": "stdout",
       "text": [
        "\n",
        "classifier result: 3, real answer 3\n",
        "classifier result: 6, real answer 6\n",
        "classifier result: 4, real answer 4\n",
        "classifier result: 1, real answer 1\n",
        "classifier result: 7, real answer 7\n",
        "classifier result: 5, real answer 5"
       ]
      },
      {
       "output_type": "stream",
       "stream": "stdout",
       "text": [
        "\n",
        "classifier result: 7, real answer 7\n",
        "classifier result: 8, real answer 8\n",
        "classifier result: 5, real answer 5\n",
        "classifier result: 2, real answer 2\n",
        "classifier result: 5, real answer 5"
       ]
      },
      {
       "output_type": "stream",
       "stream": "stdout",
       "text": [
        "\n",
        "classifier result: 7, real answer 7\n",
        "classifier result: 4, real answer 4\n",
        "classifier result: 2, real answer 2\n",
        "classifier result: 0, real answer 0\n",
        "classifier result: 3, real answer 3"
       ]
      },
      {
       "output_type": "stream",
       "stream": "stdout",
       "text": [
        "\n",
        "classifier result: 3, real answer 3\n",
        "classifier result: 8, real answer 3\n",
        "classifier result: 5, real answer 5\n",
        "classifier result: 8, real answer 8\n",
        "classifier result: 1, real answer 1\n",
        "classifier result: 1, real answer 1"
       ]
      },
      {
       "output_type": "stream",
       "stream": "stdout",
       "text": [
        "\n",
        "classifier result: 2, real answer 2\n",
        "classifier result: 5, real answer 5\n",
        "classifier result: 9, real answer 9\n",
        "classifier result: 5, real answer 5\n",
        "classifier result: 7, real answer 7\n",
        "classifier result: 7, real answer 7"
       ]
      },
      {
       "output_type": "stream",
       "stream": "stdout",
       "text": [
        "\n",
        "classifier result: 8, real answer 8\n",
        "classifier result: 9, real answer 9\n",
        "classifier result: 0, real answer 0\n",
        "classifier result: 9, real answer 9\n",
        "classifier result: 7, real answer 7"
       ]
      },
      {
       "output_type": "stream",
       "stream": "stdout",
       "text": [
        "\n",
        "classifier result: 1, real answer 1\n",
        "classifier result: 8, real answer 8\n",
        "classifier result: 0, real answer 0\n",
        "classifier result: 0, real answer 0\n",
        "classifier result: 4, real answer 4"
       ]
      },
      {
       "output_type": "stream",
       "stream": "stdout",
       "text": [
        "\n",
        "classifier result: 6, real answer 6\n",
        "classifier result: 9, real answer 3\n",
        "classifier result: 6, real answer 6\n",
        "classifier result: 5, real answer 5\n",
        "classifier result: 4, real answer 4"
       ]
      },
      {
       "output_type": "stream",
       "stream": "stdout",
       "text": [
        "\n",
        "classifier result: 8, real answer 8\n",
        "classifier result: 2, real answer 2\n",
        "classifier result: 2, real answer 2\n",
        "classifier result: 7, real answer 7\n",
        "classifier result: 6, real answer 8\n",
        "classifier result: 6, real answer 6"
       ]
      },
      {
       "output_type": "stream",
       "stream": "stdout",
       "text": [
        "\n",
        "classifier result: 1, real answer 1\n",
        "classifier result: 0, real answer 0\n",
        "classifier result: 7, real answer 7\n",
        "classifier result: 4, real answer 4\n",
        "classifier result: 7, real answer 7\n",
        "classifier result: 8, real answer 8"
       ]
      },
      {
       "output_type": "stream",
       "stream": "stdout",
       "text": [
        "\n",
        "classifier result: 9, real answer 9\n",
        "classifier result: 7, real answer 7\n",
        "classifier result: 9, real answer 9\n",
        "classifier result: 5, real answer 5\n",
        "classifier result: 7, real answer 7\n",
        "classifier result: 3, real answer 3"
       ]
      },
      {
       "output_type": "stream",
       "stream": "stdout",
       "text": [
        "\n",
        "classifier result: 0, real answer 0\n",
        "classifier result: 5, real answer 5\n",
        "classifier result: 2, real answer 2\n",
        "classifier result: 5, real answer 5\n",
        "classifier result: 5, real answer 5"
       ]
      },
      {
       "output_type": "stream",
       "stream": "stdout",
       "text": [
        "\n",
        "classifier result: 4, real answer 4\n",
        "classifier result: 5, real answer 5\n",
        "classifier result: 7, real answer 7\n",
        "classifier result: 2, real answer 2\n",
        "classifier result: 4, real answer 4"
       ]
      },
      {
       "output_type": "stream",
       "stream": "stdout",
       "text": [
        "\n",
        "classifier result: 6, real answer 6\n",
        "classifier result: 0, real answer 0\n",
        "classifier result: 0, real answer 0\n",
        "num errors 18.0\n",
        "error rate: 0.0190274841438\n"
       ]
      }
     ],
     "prompt_number": 143
    },
    {
     "cell_type": "code",
     "collapsed": false,
     "input": [],
     "language": "python",
     "metadata": {},
     "outputs": []
    }
   ],
   "metadata": {}
  }
 ]
}