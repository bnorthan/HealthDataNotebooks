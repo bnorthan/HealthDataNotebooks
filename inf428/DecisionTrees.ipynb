{
 "metadata": {
  "name": ""
 },
 "nbformat": 3,
 "nbformat_minor": 0,
 "worksheets": [
  {
   "cells": [
    {
     "cell_type": "code",
     "collapsed": false,
     "input": [
      "from math import log"
     ],
     "language": "python",
     "metadata": {},
     "outputs": [],
     "prompt_number": 1
    },
    {
     "cell_type": "code",
     "collapsed": false,
     "input": [
      "def calcShannonEnt(dataSet):\n",
      "    numEntries=len(dataSet)\n",
      "    labelCounts={}\n",
      "    \n",
      "    for featVec in dataSet:\n",
      "        currentLabel=featVec[-1]\n",
      "        if currentLabel not in labelCounts.keys():\n",
      "            labelCounts[currentLabel]=0\n",
      "            \n",
      "        labelCounts[currentLabel]+=1\n",
      "    \n",
      "    shannonEnt=0.0\n",
      "    \n",
      "    for key in labelCounts:\n",
      "        prob=float(labelCounts[key])/float(numEntries)\n",
      "        #print labelCounts[key]\n",
      "        #print numEntries\n",
      "        #print prob\n",
      "        shannonEnt-=prob*log(prob,2)\n",
      "    \n",
      "    return shannonEnt"
     ],
     "language": "python",
     "metadata": {},
     "outputs": [],
     "prompt_number": 41
    },
    {
     "cell_type": "code",
     "collapsed": false,
     "input": [
      "def createDataSet():\n",
      "    dataSet = [[1, 1, 'yes'],\n",
      "               [1, 1, 'yes'],\n",
      "               [1, 0, 'no'],\n",
      "               [0, 1, 'no'],\n",
      "               [0, 1, 'no']]\n",
      "    labels = ['no surfacing','flippers']\n",
      "    #change to discrete values\n",
      "    return dataSet, labels\n"
     ],
     "language": "python",
     "metadata": {},
     "outputs": [],
     "prompt_number": 42
    },
    {
     "cell_type": "code",
     "collapsed": false,
     "input": [
      "myData, labels=createDataSet()\n",
      "\n",
      "print myData\n",
      "\n",
      "shannonEntropy= calcShannonEnt(myData)\n",
      "\n",
      "# the higher the entropy the more mixed up the data is\n",
      "print shannonEntropy"
     ],
     "language": "python",
     "metadata": {},
     "outputs": [
      {
       "output_type": "stream",
       "stream": "stdout",
       "text": [
        "[[1, 1, 'yes'], [1, 1, 'yes'], [1, 0, 'no'], [0, 1, 'no'], [0, 1, 'no']]\n",
        "0.970950594455\n"
       ]
      }
     ],
     "prompt_number": 43
    },
    {
     "cell_type": "code",
     "collapsed": false,
     "input": [
      "def splitDataSet(dataSet, axis, value):\n",
      "    retDataSet=[]\n",
      "    \n",
      "    for featVec in dataSet:\n",
      "        if featVec[axis] == value:\n",
      "            reducedFeatVec=featVec[:axis]\n",
      "            reducedFeatVec.extend(featVec[axis+1:])\n",
      "            retDataSet.append(reducedFeatVec)\n",
      "    return retDataSet\n",
      "        "
     ],
     "language": "python",
     "metadata": {},
     "outputs": [],
     "prompt_number": 44
    },
    {
     "cell_type": "code",
     "collapsed": false,
     "input": [
      "splitData=splitDataset(myData, 0, 1)\n",
      "print splitData\n",
      "\n",
      "splitData=splitDataset(myData, 0, 0)\n",
      "print splitData"
     ],
     "language": "python",
     "metadata": {},
     "outputs": [
      {
       "output_type": "stream",
       "stream": "stdout",
       "text": [
        "[[1, 'yes'], [1, 'yes'], [0, 'no']]\n",
        "[[1, 'no'], [1, 'no']]\n"
       ]
      }
     ],
     "prompt_number": 45
    },
    {
     "cell_type": "code",
     "collapsed": false,
     "input": [
      "def chooseBestFeatureToSplit(dataSet):\n",
      "    numFeatures = len(dataSet[0]) - 1      #the last column is used for the labels\n",
      "    baseEntropy = calcShannonEnt(dataSet)\n",
      "    bestInfoGain = 0.0; bestFeature = -1\n",
      "    for i in range(numFeatures):        #iterate over all the features\n",
      "        featList = [example[i] for example in dataSet]#create a list of all the examples of this feature\n",
      "        uniqueVals = set(featList)       #get a set of unique values\n",
      "        newEntropy = 0.0\n",
      "        for value in uniqueVals:\n",
      "            subDataSet = splitDataSet(dataSet, i, value)\n",
      "            prob = len(subDataSet)/float(len(dataSet))\n",
      "            newEntropy += prob * calcShannonEnt(subDataSet)     \n",
      "        infoGain = baseEntropy - newEntropy     #calculate the info gain; ie reduction in entropy\n",
      "        if (infoGain > bestInfoGain):       #compare this to the best gain so far\n",
      "            bestInfoGain = infoGain         #if better than current best, set to best\n",
      "            bestFeature = i\n",
      "    return bestFeature                      #returns an integer"
     ],
     "language": "python",
     "metadata": {},
     "outputs": [],
     "prompt_number": 46
    },
    {
     "cell_type": "code",
     "collapsed": false,
     "input": [
      "best=chooseBestFeatureToSplit(myData)\n",
      "\n",
      "print best"
     ],
     "language": "python",
     "metadata": {},
     "outputs": [
      {
       "output_type": "stream",
       "stream": "stdout",
       "text": [
        "0\n"
       ]
      }
     ],
     "prompt_number": 47
    },
    {
     "cell_type": "code",
     "collapsed": false,
     "input": [
      "def majorityCnt(classList):\n",
      "    classCount={}\n",
      "    \n",
      "    for vote in classList:\n",
      "        if vote not in classCount.keys(): classCount[vote]=0\n",
      "        classCount[vote]+=1\n",
      "        \n",
      "    sortedClassCount=sorted(classCount.iteritems(), key=operator.itemgetter(1), reverse=True)\n",
      "    return sortedClassCount[0][0]"
     ],
     "language": "python",
     "metadata": {},
     "outputs": [],
     "prompt_number": 48
    },
    {
     "cell_type": "code",
     "collapsed": false,
     "input": [
      "def createTree(dataSet, labels):\n",
      "    classList=[example[-1] for example in dataSet]\n",
      "    \n",
      "    # if all classes are the same end\n",
      "    if classList.count(classList[0]) == len(classList):\n",
      "        return classList[0]\n",
      "    \n",
      "    # if there are no more features end\n",
      "    if len(dataSet[0])==1:\n",
      "        return majorityCnt(classList)\n",
      "    \n",
      "    # otherwise \n",
      "    bestFeat=chooseBestFeatureToSplit(dataSet)\n",
      "    bestFeatLabel=labels[bestFeat]\n",
      "    \n",
      "    myTree = {bestFeatLabel:{}}\n",
      "    del(labels[bestFeat])\n",
      "    featValues = [example[bestFeat] for example in dataSet]\n",
      "    uniqueVals = set(featValues)\n",
      "    \n",
      "    for value in uniqueVals:\n",
      "        subLabels = labels[:]       #copy all of labels, so trees don't mess up existing labels\n",
      "        myTree[bestFeatLabel][value] = createTree(splitDataSet(dataSet, bestFeat, value),subLabels)\n",
      "    return myTree                            "
     ],
     "language": "python",
     "metadata": {},
     "outputs": [],
     "prompt_number": 49
    },
    {
     "cell_type": "code",
     "collapsed": false,
     "input": [
      "myTree=createTree(myData, labels)\n",
      "print myTree"
     ],
     "language": "python",
     "metadata": {},
     "outputs": [
      {
       "output_type": "stream",
       "stream": "stdout",
       "text": [
        "{'no surfacing': {0: 'no', 1: {'flippers': {0: 'no', 1: 'yes'}}}}\n"
       ]
      }
     ],
     "prompt_number": 51
    },
    {
     "cell_type": "code",
     "collapsed": false,
     "input": [
      "import matplotlib.pyplot as plt\n",
      "%matplotlib inline\n",
      "\n",
      "decisionNode = dict(boxstyle=\"sawtooth\", fc=\"0.8\")\n",
      "leafNode=dict(boxstyle=\"round4\", fc=\"0.8\")\n",
      "arrow_args=dict(arrowstyle=\"<-\")\n",
      "\n",
      "def plotNode(nodeTxt, centerPt, parentPt, nodeType):\n",
      "    createPlot.ax1.annotate(nodeTxt, xy=parentPt,  xycoords='axes fraction',\n",
      "             xytext=centerPt, textcoords='axes fraction',\n",
      "             va=\"center\", ha=\"center\", bbox=nodeType, arrowprops=arrow_args )\n",
      "    \n",
      "def createPlot():\n",
      "    fig = plt.figure(1, facecolor='white')\n",
      "    fig.clf()\n",
      "    createPlot.ax1 = plt.subplot(111, frameon=False) #ticks for demo puropses \n",
      "    plotNode('a decisions node', (0.5, 0.1), (0.1, 0.5), decisionNode)\n",
      "    plotNode('a leafers node', (0.8, 0.1), (0.3, 0.8), leafNode)\n",
      "    plt.show()\n"
     ],
     "language": "python",
     "metadata": {},
     "outputs": [],
     "prompt_number": 73
    },
    {
     "cell_type": "code",
     "collapsed": false,
     "input": [
      "createPlot()"
     ],
     "language": "python",
     "metadata": {},
     "outputs": [
      {
       "metadata": {},
       "output_type": "display_data",
       "png": "[encoded data removed]",
       "text": [
        "<matplotlib.figure.Figure at 0x7f7a146af550>"
       ]
      }
     ],
     "prompt_number": 72
    },
    {
     "cell_type": "code",
     "collapsed": false,
     "input": [
      "def getNumLeafs(myTree):\n",
      "    numLeafs = 0\n",
      "    firstStr = myTree.keys()[0]\n",
      "    secondDict = myTree[firstStr]\n",
      "    for key in secondDict.keys():\n",
      "        if type(secondDict[key]).__name__=='dict':#test to see if the nodes are dictonaires, if not they are leaf nodes\n",
      "            numLeafs += getNumLeafs(secondDict[key])\n",
      "        else:   numLeafs +=1\n",
      "    return numLeafs"
     ],
     "language": "python",
     "metadata": {},
     "outputs": [],
     "prompt_number": 74
    },
    {
     "cell_type": "code",
     "collapsed": false,
     "input": [
      "def getTreeDepth(myTree):\n",
      "    maxDepth = 0\n",
      "    firstStr = myTree.keys()[0]\n",
      "    secondDict = myTree[firstStr]\n",
      "    for key in secondDict.keys():\n",
      "        if type(secondDict[key]).__name__=='dict':#test to see if the nodes are dictonaires, if not they are leaf nodes\n",
      "            thisDepth = 1 + getTreeDepth(secondDict[key])\n",
      "        else:   thisDepth = 1\n",
      "        if thisDepth > maxDepth: maxDepth = thisDepth\n",
      "    return maxDepth"
     ],
     "language": "python",
     "metadata": {},
     "outputs": [],
     "prompt_number": 75
    },
    {
     "cell_type": "code",
     "collapsed": false,
     "input": [
      "def retrieveTree(i):\n",
      "    listOfTrees =[{'no surfacing': {0: 'no', 1: {'flippers': {0: 'no', 1: 'yes'}}}},\n",
      "                  {'no surfacing': {0: 'no', 1: {'flippers': {0: {'head': {0: 'no', 1: 'yes'}}, 1: 'no'}}}}\n",
      "                  ]\n",
      "    return listOfTrees[i]"
     ],
     "language": "python",
     "metadata": {},
     "outputs": [],
     "prompt_number": 76
    },
    {
     "cell_type": "code",
     "collapsed": false,
     "input": [
      "myTree=retrieveTree(0)\n",
      "print getNumLeafs(myTree)\n",
      "print getTreeDepth(myTree)"
     ],
     "language": "python",
     "metadata": {},
     "outputs": [
      {
       "output_type": "stream",
       "stream": "stdout",
       "text": [
        "3\n",
        "2\n"
       ]
      }
     ],
     "prompt_number": 80
    },
    {
     "cell_type": "code",
     "collapsed": false,
     "input": [
      "def plotMidText(cntrPt, parentPt, txtString):\n",
      "    xMid = (parentPt[0]-cntrPt[0])/2.0 + cntrPt[0]\n",
      "    yMid = (parentPt[1]-cntrPt[1])/2.0 + cntrPt[1]\n",
      "    createPlot.ax1.text(xMid, yMid, txtString, va=\"center\", ha=\"center\", rotation=30)"
     ],
     "language": "python",
     "metadata": {},
     "outputs": [],
     "prompt_number": 85
    },
    {
     "cell_type": "code",
     "collapsed": false,
     "input": [
      "def plotTree(myTree, parentPt, nodeTxt):#if the first key tells you what feat was split on\n",
      "    numLeafs = getNumLeafs(myTree)  #this determines the x width of this tree\n",
      "    depth = getTreeDepth(myTree)\n",
      "    firstStr = myTree.keys()[0]     #the text label for this node should be this\n",
      "    cntrPt = (plotTree.xOff + (1.0 + float(numLeafs))/2.0/plotTree.totalW, plotTree.yOff)\n",
      "    plotMidText(cntrPt, parentPt, nodeTxt)\n",
      "    plotNode(firstStr, cntrPt, parentPt, decisionNode)\n",
      "    secondDict = myTree[firstStr]\n",
      "    plotTree.yOff = plotTree.yOff - 1.0/plotTree.totalD\n",
      "    for key in secondDict.keys():\n",
      "        if type(secondDict[key]).__name__=='dict':#test to see if the nodes are dictonaires, if not they are leaf nodes   \n",
      "            plotTree(secondDict[key],cntrPt,str(key))        #recursion\n",
      "        else:   #it's a leaf node print the leaf node\n",
      "            plotTree.xOff = plotTree.xOff + 1.0/plotTree.totalW\n",
      "            plotNode(secondDict[key], (plotTree.xOff, plotTree.yOff), cntrPt, leafNode)\n",
      "            plotMidText((plotTree.xOff, plotTree.yOff), cntrPt, str(key))\n",
      "    plotTree.yOff = plotTree.yOff + 1.0/plotTree.totalD"
     ],
     "language": "python",
     "metadata": {},
     "outputs": [],
     "prompt_number": 86
    },
    {
     "cell_type": "code",
     "collapsed": false,
     "input": [
      "def createPlot(inTree):\n",
      "    fig = plt.figure(1, facecolor='white')\n",
      "    fig.clf()\n",
      "    axprops = dict(xticks=[], yticks=[])\n",
      "    createPlot.ax1 = plt.subplot(111, frameon=False, **axprops)    #no ticks\n",
      "    #createPlot.ax1 = plt.subplot(111, frameon=False) #ticks for demo puropses \n",
      "    plotTree.totalW = float(getNumLeafs(inTree))\n",
      "    plotTree.totalD = float(getTreeDepth(inTree))\n",
      "    plotTree.xOff = -0.5/plotTree.totalW; plotTree.yOff = 1.0;\n",
      "    plotTree(inTree, (0.5,1.0), '')\n",
      "    plt.show()"
     ],
     "language": "python",
     "metadata": {},
     "outputs": [],
     "prompt_number": 87
    },
    {
     "cell_type": "code",
     "collapsed": false,
     "input": [
      "createPlot(myTree)"
     ],
     "language": "python",
     "metadata": {},
     "outputs": [
      {
       "output_type": "stream",
       "stream": "stderr",
       "text": [
        "/usr/local/lib/python2.7/dist-packages/matplotlib/patches.py:3046: RuntimeWarning: invalid value encountered in double_scalars\n",
        "  ddx = pad_projected * dx / cp_distance\n",
        "/usr/local/lib/python2.7/dist-packages/matplotlib/patches.py:3047: RuntimeWarning: invalid value encountered in double_scalars\n",
        "  ddy = pad_projected * dy / cp_distance\n",
        "/usr/local/lib/python2.7/dist-packages/matplotlib/patches.py:3050: RuntimeWarning: invalid value encountered in double_scalars\n",
        "  dx = dx / cp_distance * head_dist\n",
        "/usr/local/lib/python2.7/dist-packages/matplotlib/patches.py:3051: RuntimeWarning: invalid value encountered in double_scalars\n",
        "  dy = dy / cp_distance * head_dist\n"
       ]
      },
      {
       "metadata": {},
       "output_type": "display_data",
       "png": "[encoded data removed]",
       "text": [
        "<matplotlib.figure.Figure at 0x7f79e448a410>"
       ]
      }
     ],
     "prompt_number": 88
    },
    {
     "cell_type": "code",
     "collapsed": false,
     "input": [
      "createPlot(retrieveTree(1))"
     ],
     "language": "python",
     "metadata": {},
     "outputs": [
      {
       "metadata": {},
       "output_type": "display_data",
       "png": "[encoded data removed]",
       "text": [
        "<matplotlib.figure.Figure at 0x7f79dd156650>"
       ]
      }
     ],
     "prompt_number": 89
    },
    {
     "cell_type": "code",
     "collapsed": false,
     "input": [
      "def classify(inputTree,featLabels,testVec):\n",
      "    firstStr = inputTree.keys()[0]\n",
      "    secondDict = inputTree[firstStr]\n",
      "    featIndex = featLabels.index(firstStr)\n",
      "    key = testVec[featIndex]\n",
      "    valueOfFeat = secondDict[key]\n",
      "    if isinstance(valueOfFeat, dict): \n",
      "        classLabel = classify(valueOfFeat, featLabels, testVec)\n",
      "    else: classLabel = valueOfFeat\n",
      "    return classLabel"
     ],
     "language": "python",
     "metadata": {},
     "outputs": [],
     "prompt_number": 90
    },
    {
     "cell_type": "code",
     "collapsed": false,
     "input": [
      "myDat, labels=createDataSet()\n",
      "print labels\n",
      "myTree=retrieveTree(0)\n",
      "print myTree"
     ],
     "language": "python",
     "metadata": {},
     "outputs": [
      {
       "output_type": "stream",
       "stream": "stdout",
       "text": [
        "['no surfacing', 'flippers']\n",
        "{'no surfacing': {0: 'no', 1: {'flippers': {0: 'no', 1: 'yes'}}}}\n"
       ]
      }
     ],
     "prompt_number": 95
    },
    {
     "cell_type": "code",
     "collapsed": false,
     "input": [
      "classify(myTree, labels, [1,0])"
     ],
     "language": "python",
     "metadata": {},
     "outputs": [
      {
       "metadata": {},
       "output_type": "pyout",
       "prompt_number": 96,
       "text": [
        "'no'"
       ]
      }
     ],
     "prompt_number": 96
    },
    {
     "cell_type": "code",
     "collapsed": false,
     "input": [
      "classify(myTree, labels, [1,1])"
     ],
     "language": "python",
     "metadata": {},
     "outputs": [
      {
       "metadata": {},
       "output_type": "pyout",
       "prompt_number": 98,
       "text": [
        "'yes'"
       ]
      }
     ],
     "prompt_number": 98
    },
    {
     "cell_type": "code",
     "collapsed": false,
     "input": [
      "def storeTree(inputTree,filename):\n",
      "    import pickle\n",
      "    fw = open(filename,'w')\n",
      "    pickle.dump(inputTree,fw)\n",
      "    fw.close()"
     ],
     "language": "python",
     "metadata": {},
     "outputs": [],
     "prompt_number": 99
    },
    {
     "cell_type": "code",
     "collapsed": false,
     "input": [
      "def grabTree(filename):\n",
      "    import pickle\n",
      "    fr = open(filename)\n",
      "    return pickle.load(fr)"
     ],
     "language": "python",
     "metadata": {},
     "outputs": [],
     "prompt_number": 100
    },
    {
     "cell_type": "code",
     "collapsed": false,
     "input": [
      "fileName='../ExampleCode/machinelearninginaction/Ch03/lenses.txt'\n",
      "fr=open(fileName)\n",
      "lenses=[inst.strip().split('\\t') for inst in fr.readlines()]\n",
      "lensesLabels=['age', 'prescript', 'astigmatic', 'tearRate']\n",
      "lensesTree=createTree(lenses, lensesLabels)\n",
      "print lensesTree"
     ],
     "language": "python",
     "metadata": {},
     "outputs": [
      {
       "output_type": "stream",
       "stream": "stdout",
       "text": [
        "{'tearRate': {'reduced': 'no lenses', 'normal': {'astigmatic': {'yes': {'prescript': {'hyper': {'age': {'pre': 'no lenses', 'presbyopic': 'no lenses', 'young': 'hard'}}, 'myope': 'hard'}}, 'no': {'age': {'pre': 'soft', 'presbyopic': {'prescript': {'hyper': 'soft', 'myope': 'no lenses'}}, 'young': 'soft'}}}}}}\n"
       ]
      }
     ],
     "prompt_number": 104
    },
    {
     "cell_type": "code",
     "collapsed": false,
     "input": [
      "createPlot(lensesTree)"
     ],
     "language": "python",
     "metadata": {},
     "outputs": [
      {
       "metadata": {},
       "output_type": "display_data",
       "png": "[encoded data removed]",
       "text": [
        "<matplotlib.figure.Figure at 0x7f79e407d590>"
       ]
      }
     ],
     "prompt_number": 105
    },
    {
     "cell_type": "code",
     "collapsed": false,
     "input": [],
     "language": "python",
     "metadata": {},
     "outputs": []
    }
   ],
   "metadata": {}
  }
 ]
}