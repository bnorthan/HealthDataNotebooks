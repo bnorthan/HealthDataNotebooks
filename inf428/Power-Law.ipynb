{
 "metadata": {
  "name": ""
 },
 "nbformat": 3,
 "nbformat_minor": 0,
 "worksheets": [
  {
   "cells": [
    {
     "cell_type": "code",
     "collapsed": false,
     "input": [
      "import sys, random\n",
      "from matplotlib import pylab as plt\n",
      "%matplotlib inline"
     ],
     "language": "python",
     "metadata": {},
     "outputs": [],
     "prompt_number": 1
    },
    {
     "cell_type": "code",
     "collapsed": false,
     "input": [
      "def pareto(alpha):\n",
      "    y=random.random()\n",
      "    return 1.0/(pow(1-y, 1.0/alpha))"
     ],
     "language": "python",
     "metadata": {},
     "outputs": [],
     "prompt_number": 2
    },
    {
     "cell_type": "code",
     "collapsed": false,
     "input": [
      "alpha=0.1\n",
      "\n",
      "n,tt1,mx=0,0,0\n",
      "\n",
      "means=[]\n",
      "mxs=[]\n",
      "\n",
      "\n",
      "\n",
      "while n<1e7:\n",
      "    n += 1\n",
      "    v=pareto(alpha)\n",
      "    \n",
      "    tt1 +=v\n",
      "    mx=max(mx,v)\n",
      "    \n",
      "    if (n%50000==0):\n",
      "            print n, tt1/n, mx\n",
      "            means.append(tt1/n)\n",
      "            mxs.append(mx)\n",
      "            "
     ],
     "language": "python",
     "metadata": {},
     "outputs": [
      {
       "output_type": "stream",
       "stream": "stdout",
       "text": [
        "50000 3.62053473563e+46 1.81025114274e+51\n",
        "100000"
       ]
      },
      {
       "output_type": "stream",
       "stream": "stdout",
       "text": [
        " 1.81026741576e+46 1.81025114274e+51\n",
        "150000"
       ]
      },
      {
       "output_type": "stream",
       "stream": "stdout",
       "text": [
        " 1.206845625e+46 1.81025114274e+51\n",
        "200000"
       ]
      },
      {
       "output_type": "stream",
       "stream": "stdout",
       "text": [
        " 1.45005786082e+47 2.7190888606e+52\n",
        "250000 1.16004924991e+47 2.7190888606e+52\n",
        "300000"
       ]
      },
      {
       "output_type": "stream",
       "stream": "stdout",
       "text": [
        " 9.69039884635e+46 2.7190888606e+52\n",
        "350000"
       ]
      },
      {
       "output_type": "stream",
       "stream": "stdout",
       "text": [
        " 8.31148134634e+46 2.7190888606e+52\n",
        "400000 8.30272527219e+46 2.7190888606e+52\n",
        "450000"
       ]
      },
      {
       "output_type": "stream",
       "stream": "stdout",
       "text": [
        " 1.70279508531e+47 4.33298346068e+52\n",
        "500000 1.53251568404e+47 4.33298346068e+52\n",
        "550000"
       ]
      },
      {
       "output_type": "stream",
       "stream": "stdout",
       "text": [
        " 3.25926832316e+49 1.78175069645e+55\n",
        "600000 2.98766262966e+49 1.78175069645e+55\n",
        "650000"
       ]
      },
      {
       "output_type": "stream",
       "stream": "stdout",
       "text": [
        " 2.75784242792e+49 1.78175069645e+55\n",
        "700000 2.60808181517e+49 1.78175069645e+55\n",
        "750000"
       ]
      },
      {
       "output_type": "stream",
       "stream": "stdout",
       "text": [
        " 2.43420969416e+49 1.78175069645e+55\n",
        "800000"
       ]
      },
      {
       "output_type": "stream",
       "stream": "stdout",
       "text": [
        " 2.28209906626e+49 1.78175069645e+55\n",
        "850000"
       ]
      },
      {
       "output_type": "stream",
       "stream": "stdout",
       "text": [
        " 2.14785794557e+49 1.78175069645e+55\n",
        "900000 2.02853252898e+49 1.78175069645e+55\n",
        "950000"
       ]
      },
      {
       "output_type": "stream",
       "stream": "stdout",
       "text": [
        " 4.01834615021e+55 3.81742701669e+61\n",
        "1000000 3.81742884365e+55 3.81742701669e+61\n",
        "1050000"
       ]
      },
      {
       "output_type": "stream",
       "stream": "stdout",
       "text": [
        " 3.63564651776e+55 3.81742701669e+61\n",
        "1100000"
       ]
      },
      {
       "output_type": "stream",
       "stream": "stdout",
       "text": [
        " 3.47038985787e+55 3.81742701669e+61\n",
        "1150000 3.31950334231e+55 3.81742701669e+61\n",
        "1200000"
       ]
      },
      {
       "output_type": "stream",
       "stream": "stdout",
       "text": [
        " 3.18119070304e+55 3.81742701669e+61\n",
        "1250000 3.05394307492e+55 3.81742701669e+61\n",
        "1300000"
       ]
      },
      {
       "output_type": "stream",
       "stream": "stdout",
       "text": [
        " 2.93648372589e+55 3.81742701669e+61\n",
        "1350000 2.82772506937e+55 3.81742701669e+61\n",
        "1400000"
       ]
      },
      {
       "output_type": "stream",
       "stream": "stdout",
       "text": [
        " 2.72673488842e+55 3.81742701669e+61\n",
        "1450000 2.63270954744e+55 3.81742701669e+61\n",
        "1500000"
       ]
      },
      {
       "output_type": "stream",
       "stream": "stdout",
       "text": [
        " 2.54495267254e+55 3.81742701669e+61\n",
        "1550000"
       ]
      },
      {
       "output_type": "stream",
       "stream": "stdout",
       "text": [
        " 2.46285742505e+55 3.81742701669e+61\n",
        "1600000"
       ]
      },
      {
       "output_type": "stream",
       "stream": "stdout",
       "text": [
        " 2.38589313052e+55 3.81742701669e+61\n",
        "1650000 2.31359341831e+55 3.81742701669e+61\n",
        "1700000"
       ]
      },
      {
       "output_type": "stream",
       "stream": "stdout",
       "text": [
        " 2.2455465535e+55 3.81742701669e+61\n",
        "1750000"
       ]
      },
      {
       "output_type": "stream",
       "stream": "stdout",
       "text": [
        " 2.18138808054e+55 3.81742701669e+61\n",
        "1800000"
       ]
      },
      {
       "output_type": "stream",
       "stream": "stdout",
       "text": [
        " 2.13833010161e+55 3.81742701669e+61\n",
        "1850000 2.08053838917e+55 3.81742701669e+61\n",
        "1900000"
       ]
      },
      {
       "output_type": "stream",
       "stream": "stdout",
       "text": [
        " 2.02578739477e+55 3.81742701669e+61\n",
        "1950000 1.97384848684e+55 3.81742701669e+61\n",
        "2000000"
       ]
      },
      {
       "output_type": "stream",
       "stream": "stdout",
       "text": [
        " 1.92450227477e+55 3.81742701669e+61\n",
        "2050000"
       ]
      },
      {
       "output_type": "stream",
       "stream": "stdout",
       "text": [
        " 1.87756345532e+55 3.81742701669e+61\n",
        "2100000"
       ]
      },
      {
       "output_type": "stream",
       "stream": "stdout",
       "text": [
        " 1.83285956353e+55 3.81742701669e+61\n",
        "2150000 1.79023492251e+55 3.81742701669e+61\n",
        "2200000"
       ]
      },
      {
       "output_type": "stream",
       "stream": "stdout",
       "text": [
        " 1.74954776518e+55 3.81742701669e+61\n",
        "2250000 1.71066892603e+55 3.81742701669e+61\n",
        "2300000"
       ]
      },
      {
       "output_type": "stream",
       "stream": "stdout",
       "text": [
        " 1.67348047111e+55 3.81742701669e+61\n",
        "2350000 1.63787450381e+55 3.81742701669e+61\n",
        "2400000"
       ]
      },
      {
       "output_type": "stream",
       "stream": "stdout",
       "text": [
        " 1.60375211831e+55 3.81742701669e+61\n",
        "2450000"
       ]
      },
      {
       "output_type": "stream",
       "stream": "stdout",
       "text": [
        " 1.57102248325e+55 3.81742701669e+61\n",
        "2500000"
       ]
      },
      {
       "output_type": "stream",
       "stream": "stdout",
       "text": [
        " 1.53960203358e+55 3.81742701669e+61\n",
        "2550000 1.50999668471e+55 3.81742701669e+61\n",
        "2600000"
       ]
      },
      {
       "output_type": "stream",
       "stream": "stdout",
       "text": [
        " 1.48095828693e+55 3.81742701669e+61\n",
        "2650000 1.57603170031e+55 3.81742701669e+61\n",
        "2700000"
       ]
      },
      {
       "output_type": "stream",
       "stream": "stdout",
       "text": [
        " 1.54684592808e+55 3.81742701669e+61\n",
        "2750000"
       ]
      },
      {
       "output_type": "stream",
       "stream": "stdout",
       "text": [
        " 1.51872145666e+55 3.81742701669e+61\n",
        "2800000"
       ]
      },
      {
       "output_type": "stream",
       "stream": "stdout",
       "text": [
        " 1.49160143065e+55 3.81742701669e+61\n",
        "2850000 1.46543299608e+55 3.81742701669e+61\n",
        "2900000"
       ]
      },
      {
       "output_type": "stream",
       "stream": "stdout",
       "text": [
        " 1.44016690994e+55 3.81742701669e+61\n",
        "2950000 1.4157573013e+55 3.81742701669e+61\n",
        "3000000"
       ]
      },
      {
       "output_type": "stream",
       "stream": "stdout",
       "text": [
        " 1.39216134629e+55 3.81742701669e+61\n",
        "3050000"
       ]
      },
      {
       "output_type": "stream",
       "stream": "stdout",
       "text": [
        " 1.36933902914e+55 3.81742701669e+61\n",
        "3100000"
       ]
      },
      {
       "output_type": "stream",
       "stream": "stdout",
       "text": [
        " 1.34725298808e+55 3.81742701669e+61\n",
        "3150000 1.32598700143e+55 3.81742701669e+61\n",
        "3200000"
       ]
      },
      {
       "output_type": "stream",
       "stream": "stdout",
       "text": [
        " 1.30526845453e+55 3.81742701669e+61\n",
        "3250000 1.28583323519e+55 3.81742701669e+61\n",
        "3300000"
       ]
      },
      {
       "output_type": "stream",
       "stream": "stdout",
       "text": [
        " 1.26635599242e+55 3.81742701669e+61\n",
        "3350000 1.24745515671e+55 3.81742701669e+61\n",
        "3400000"
       ]
      },
      {
       "output_type": "stream",
       "stream": "stdout",
       "text": [
        " 1.22911022846e+55 3.81742701669e+61\n",
        "3450000"
       ]
      },
      {
       "output_type": "stream",
       "stream": "stdout",
       "text": [
        " 1.21129703674e+55 3.81742701669e+61\n",
        "3500000"
       ]
      },
      {
       "output_type": "stream",
       "stream": "stdout",
       "text": [
        " 1.19399527002e+55 3.81742701669e+61\n",
        "3550000 1.17717844733e+55 3.81742701669e+61\n",
        "3600000"
       ]
      },
      {
       "output_type": "stream",
       "stream": "stdout",
       "text": [
        " 1.16082874668e+55 3.81742701669e+61\n",
        "3650000 1.14492698333e+55 3.81742701669e+61\n",
        "3700000"
       ]
      },
      {
       "output_type": "stream",
       "stream": "stdout",
       "text": [
        " 1.12945499707e+55 3.81742701669e+61\n",
        "3750000"
       ]
      },
      {
       "output_type": "stream",
       "stream": "stdout",
       "text": [
        " 1.11439559711e+55 3.81742701669e+61\n",
        "3800000"
       ]
      },
      {
       "output_type": "stream",
       "stream": "stdout",
       "text": [
        " 1.09973249715e+55 3.81742701669e+61\n",
        "3850000 1.08545025692e+55 3.81742701669e+61\n",
        "3900000"
       ]
      },
      {
       "output_type": "stream",
       "stream": "stdout",
       "text": [
        " 1.07153422799e+55 3.81742701669e+61\n",
        "3950000 1.05797050358e+55 3.81742701669e+61\n",
        "4000000"
       ]
      },
      {
       "output_type": "stream",
       "stream": "stdout",
       "text": [
        " 1.04474587522e+55 3.81742701669e+61\n",
        "4050000"
       ]
      },
      {
       "output_type": "stream",
       "stream": "stdout",
       "text": [
        " 1.031847778e+55 3.81742701669e+61\n",
        "4100000"
       ]
      },
      {
       "output_type": "stream",
       "stream": "stdout",
       "text": [
        " 1.01926426857e+55 3.81742701669e+61\n",
        "4150000 1.00698399835e+55 3.81742701669e+61\n",
        "4200000"
       ]
      },
      {
       "output_type": "stream",
       "stream": "stdout",
       "text": [
        " 9.9499609361e+54 3.81742701669e+61\n",
        "4250000 9.83290257215e+54 3.81742701669e+61\n",
        "4300000"
       ]
      },
      {
       "output_type": "stream",
       "stream": "stdout",
       "text": [
        " 9.71856649573e+54 3.81742701669e+61\n",
        "4350000"
       ]
      },
      {
       "output_type": "stream",
       "stream": "stdout",
       "text": [
        " 9.60686262656e+54 3.81742701669e+61\n",
        "4400000"
       ]
      },
      {
       "output_type": "stream",
       "stream": "stdout",
       "text": [
        " 5.31690313108e+56 2.29764752525e+63\n",
        "4450000 5.25716264646e+56 2.29764752525e+63\n",
        "4500000"
       ]
      },
      {
       "output_type": "stream",
       "stream": "stdout",
       "text": [
        " 5.19874972817e+56 2.29764752525e+63\n",
        "4550000 5.14162061035e+56 2.29764752525e+63\n",
        "4600000"
       ]
      },
      {
       "output_type": "stream",
       "stream": "stdout",
       "text": [
        " 5.0857334298e+56 2.29764752525e+63\n",
        "4650000 5.03937457688e+56 2.29764752525e+63\n",
        "4700000"
       ]
      },
      {
       "output_type": "stream",
       "stream": "stdout",
       "text": [
        " 4.98576420904e+56 2.29764752525e+63\n",
        "4750000 4.93328248053e+56 2.29764752525e+63\n",
        "4800000"
       ]
      },
      {
       "output_type": "stream",
       "stream": "stdout",
       "text": [
        " 4.88189412247e+56 2.29764752525e+63\n",
        "4850000 4.83156531708e+56 2.29764752525e+63\n",
        "4900000"
       ]
      },
      {
       "output_type": "stream",
       "stream": "stdout",
       "text": [
        " 4.78226363058e+56 2.29764752525e+63\n",
        "4950000 4.73395793734e+56 2.29764752525e+63\n",
        "5000000"
       ]
      },
      {
       "output_type": "stream",
       "stream": "stdout",
       "text": [
        " 4.68661835797e+56 2.29764752525e+63\n",
        "5050000 4.6412585675e+56 2.29764752525e+63\n",
        "5100000"
       ]
      },
      {
       "output_type": "stream",
       "stream": "stdout",
       "text": [
        " 4.59575603253e+56 2.29764752525e+63\n",
        "5150000 4.55113704192e+56 2.29764752525e+63\n",
        "5200000"
       ]
      },
      {
       "output_type": "stream",
       "stream": "stdout",
       "text": [
        " 4.50737610883e+56 2.29764752525e+63\n",
        "5250000 4.46445130685e+56 2.29764752525e+63\n",
        "5300000"
       ]
      },
      {
       "output_type": "stream",
       "stream": "stdout",
       "text": [
        " 4.42233384169e+56 2.29764752525e+63\n",
        "5350000 4.38100361887e+56 2.29764752525e+63\n",
        "5400000"
       ]
      },
      {
       "output_type": "stream",
       "stream": "stdout",
       "text": [
        " 4.34043877055e+56 2.29764752525e+63\n",
        "5450000 4.30061823137e+56 2.29764752525e+63\n",
        "5500000"
       ]
      },
      {
       "output_type": "stream",
       "stream": "stdout",
       "text": [
        " 4.26152170199e+56 2.29764752525e+63\n",
        "5550000 4.22312961459e+56 2.29764752525e+63\n",
        "5600000"
       ]
      },
      {
       "output_type": "stream",
       "stream": "stdout",
       "text": [
        " 4.18542310017e+56 2.29764752525e+63\n",
        "5650000 4.1483839577e+56 2.29764752525e+63\n",
        "5700000"
       ]
      },
      {
       "output_type": "stream",
       "stream": "stdout",
       "text": [
        " 4.11199462474e+56 2.29764752525e+63\n",
        "5750000 4.07623814974e+56 2.29764752525e+63\n",
        "5800000"
       ]
      },
      {
       "output_type": "stream",
       "stream": "stdout",
       "text": [
        " 4.04109816569e+56 2.29764752525e+63\n",
        "5850000"
       ]
      },
      {
       "output_type": "stream",
       "stream": "stdout",
       "text": [
        " 4.00655886513e+56 2.29764752525e+63\n",
        "5900000 3.97260497644e+56 2.29764752525e+63\n",
        "5950000"
       ]
      },
      {
       "output_type": "stream",
       "stream": "stdout",
       "text": [
        " 3.93922174134e+56 2.29764752525e+63\n",
        "6000000 3.9063948935e+56 2.29764752525e+63\n",
        "6050000"
       ]
      },
      {
       "output_type": "stream",
       "stream": "stdout",
       "text": [
        " 3.87411063818e+56 2.29764752525e+63\n",
        "6100000 3.84235563295e+56 2.29764752525e+63\n",
        "6150000"
       ]
      },
      {
       "output_type": "stream",
       "stream": "stdout",
       "text": [
        " 3.81111696927e+56 2.29764752525e+63\n",
        "6200000"
       ]
      },
      {
       "output_type": "stream",
       "stream": "stdout",
       "text": [
        " 3.780382155e+56 2.29764752525e+63\n",
        "6250000 3.75013909832e+56 2.29764752525e+63\n",
        "6300000"
       ]
      },
      {
       "output_type": "stream",
       "stream": "stdout",
       "text": [
        " 3.7203760896e+56 2.29764752525e+63\n",
        "6350000 3.69108178968e+56 2.29764752525e+63\n",
        "6400000"
       ]
      },
      {
       "output_type": "stream",
       "stream": "stdout",
       "text": [
        " 3.66224521325e+56 2.29764752525e+63\n",
        "6450000 3.63385571547e+56 2.29764752525e+63\n",
        "6500000"
       ]
      },
      {
       "output_type": "stream",
       "stream": "stdout",
       "text": [
        " 3.6059029795e+56 2.29764752525e+63\n",
        "6550000 3.57837700255e+56 2.29764752525e+63\n",
        "6600000"
       ]
      },
      {
       "output_type": "stream",
       "stream": "stdout",
       "text": [
        " 3.55126808587e+56 2.29764752525e+63\n",
        "6650000 3.52456682207e+56 2.29764752525e+63\n",
        "6700000"
       ]
      },
      {
       "output_type": "stream",
       "stream": "stdout",
       "text": [
        " 3.49826416763e+56 2.29764752525e+63\n",
        "6750000 3.47235109973e+56 2.29764752525e+63\n",
        "6800000"
       ]
      },
      {
       "output_type": "stream",
       "stream": "stdout",
       "text": [
        " 3.44681910634e+56 2.29764752525e+63\n",
        "6850000 3.42165984279e+56 2.29764752525e+63\n",
        "6900000"
       ]
      },
      {
       "output_type": "stream",
       "stream": "stdout",
       "text": [
        " 3.39686690539e+56 2.29764752525e+63\n",
        "6950000 3.37242901398e+56 2.29764752525e+63\n",
        "7000000"
       ]
      },
      {
       "output_type": "stream",
       "stream": "stdout",
       "text": [
        " 3.34834023531e+56 2.29764752525e+63\n",
        "7050000 3.32474055578e+56 2.29764752525e+63\n",
        "7100000"
       ]
      },
      {
       "output_type": "stream",
       "stream": "stdout",
       "text": [
        " 3.30132688989e+56 2.29764752525e+63\n",
        "7150000 3.27824068787e+56 2.29764752525e+63\n",
        "7200000"
       ]
      },
      {
       "output_type": "stream",
       "stream": "stdout",
       "text": [
        " 3.25547512753e+56 2.29764752525e+63\n",
        "7250000 3.23302357493e+56 2.29764752525e+63\n",
        "7300000"
       ]
      },
      {
       "output_type": "stream",
       "stream": "stdout",
       "text": [
        " 3.2108796094e+56 2.29764752525e+63\n",
        "7350000"
       ]
      },
      {
       "output_type": "stream",
       "stream": "stdout",
       "text": [
        " 3.18903689097e+56 2.29764752525e+63\n",
        "7400000 3.16748934441e+56 2.29764752525e+63\n",
        "7450000"
       ]
      },
      {
       "output_type": "stream",
       "stream": "stdout",
       "text": [
        " 3.14623102666e+56 2.29764752525e+63\n",
        "7500000 3.12525615315e+56 2.29764752525e+63\n",
        "7550000"
       ]
      },
      {
       "output_type": "stream",
       "stream": "stdout",
       "text": [
        " 3.10455909253e+56 2.29764752525e+63\n",
        "7600000 3.08413436166e+56 2.29764752525e+63\n",
        "7650000"
       ]
      },
      {
       "output_type": "stream",
       "stream": "stdout",
       "text": [
        " 3.06397662073e+56 2.29764752525e+63\n",
        "7700000 3.04408066865e+56 2.29764752525e+63\n",
        "7750000"
       ]
      },
      {
       "output_type": "stream",
       "stream": "stdout",
       "text": [
        " 3.02444143853e+56 2.29764752525e+63\n",
        "7800000 3.00505399341e+56 2.29764752525e+63\n",
        "7850000"
       ]
      },
      {
       "output_type": "stream",
       "stream": "stdout",
       "text": [
        " 2.98591352212e+56 2.29764752525e+63\n",
        "7900000 2.96701533527e+56 2.29764752525e+63\n",
        "7950000"
       ]
      },
      {
       "output_type": "stream",
       "stream": "stdout",
       "text": [
        " 2.94835486147e+56 2.29764752525e+63\n",
        "8000000 2.92992764431e+56 2.29764752525e+63\n",
        "8050000"
       ]
      },
      {
       "output_type": "stream",
       "stream": "stdout",
       "text": [
        " 2.91172933596e+56 2.29764752525e+63\n",
        "8100000 2.89375569808e+56 2.29764752525e+63\n",
        "8150000"
       ]
      },
      {
       "output_type": "stream",
       "stream": "stdout",
       "text": [
        " 2.87601744786e+56 2.29764752525e+63\n",
        "8200000 2.8584807561e+56 2.29764752525e+63\n",
        "8250000"
       ]
      },
      {
       "output_type": "stream",
       "stream": "stdout",
       "text": [
        " 2.84115663031e+56 2.29764752525e+63\n",
        "8300000 2.82404122892e+56 2.29764752525e+63\n",
        "8350000"
       ]
      },
      {
       "output_type": "stream",
       "stream": "stdout",
       "text": [
        " 2.80713080245e+56 2.29764752525e+63\n",
        "8400000 2.79042169053e+56 2.29764752525e+63\n",
        "8450000"
       ]
      },
      {
       "output_type": "stream",
       "stream": "stdout",
       "text": [
        " 2.77391031958e+56 2.29764752525e+63\n",
        "8500000 2.75759320006e+56 2.29764752525e+63\n",
        "8550000"
       ]
      },
      {
       "output_type": "stream",
       "stream": "stdout",
       "text": [
        " 2.74146692403e+56 2.29764752525e+63\n",
        "8600000 2.72552816285e+56 2.29764752525e+63\n",
        "8650000"
       ]
      },
      {
       "output_type": "stream",
       "stream": "stdout",
       "text": [
        " 2.7097736648e+56 2.29764752525e+63\n",
        "8700000 2.69420025299e+56 2.29764752525e+63\n",
        "8750000"
       ]
      },
      {
       "output_type": "stream",
       "stream": "stdout",
       "text": [
        " 2.67880482297e+56 2.29764752525e+63\n",
        "8800000 2.66358434103e+56 2.29764752525e+63\n",
        "8850000"
       ]
      },
      {
       "output_type": "stream",
       "stream": "stdout",
       "text": [
        " 2.64853584192e+56 2.29764752525e+63\n",
        "8900000 2.6336564274e+56 2.29764752525e+63\n",
        "8950000"
       ]
      },
      {
       "output_type": "stream",
       "stream": "stdout",
       "text": [
        " 2.61894326301e+56 2.29764752525e+63\n",
        "9000000 7.24045323752e+57 6.28201249115e+64\n",
        "9050000"
       ]
      },
      {
       "output_type": "stream",
       "stream": "stdout",
       "text": [
        " 7.20045073344e+57 6.28201249115e+64\n",
        "9100000 7.16088785651e+57 6.28201249115e+64\n",
        "9150000"
       ]
      },
      {
       "output_type": "stream",
       "stream": "stdout",
       "text": [
        " 7.12175732178e+57 6.28201249115e+64\n",
        "9200000 7.08305571308e+57 6.28201249115e+64\n",
        "9250000"
       ]
      },
      {
       "output_type": "stream",
       "stream": "stdout",
       "text": [
        " 7.04476892833e+57 6.28201249115e+64\n",
        "9300000 7.00689382656e+57 6.28201249115e+64\n",
        "9350000"
       ]
      },
      {
       "output_type": "stream",
       "stream": "stdout",
       "text": [
        " 6.9694238061e+57 6.28201249115e+64\n",
        "9400000 6.93235240288e+57 6.28201249115e+64\n",
        "9450000"
       ]
      },
      {
       "output_type": "stream",
       "stream": "stdout",
       "text": [
        " 6.89567328964e+57 6.28201249115e+64\n",
        "9500000 6.85938027589e+57 6.28201249115e+64\n",
        "9550000"
       ]
      },
      {
       "output_type": "stream",
       "stream": "stdout",
       "text": [
        " 6.82346729016e+57 6.28201249115e+64\n",
        "9600000 6.78792839802e+57 6.28201249115e+64\n",
        "9650000"
       ]
      },
      {
       "output_type": "stream",
       "stream": "stdout",
       "text": [
        " 6.75275778456e+57 6.28201249115e+64\n",
        "9700000 6.71794975474e+57 6.28201249115e+64\n",
        "9750000"
       ]
      },
      {
       "output_type": "stream",
       "stream": "stdout",
       "text": [
        " 6.68349873036e+57 6.28201249115e+64\n",
        "9800000 6.64939924704e+57 6.28201249115e+64\n",
        "9850000"
       ]
      },
      {
       "output_type": "stream",
       "stream": "stdout",
       "text": [
        " 6.61564595137e+57 6.28201249115e+64\n",
        "9900000 6.58223359808e+57 6.28201249115e+64\n",
        "9950000"
       ]
      },
      {
       "output_type": "stream",
       "stream": "stdout",
       "text": [
        " 6.54915704734e+57 6.28201249115e+64\n",
        "10000000 6.52129515105e+57 6.28201249115e+64\n"
       ]
      }
     ],
     "prompt_number": 17
    },
    {
     "cell_type": "code",
     "collapsed": false,
     "input": [
      "fig, ax1 = plt.subplots()\n",
      "\n",
      "ax1.plot(means, 'b-')\n",
      "ax1.set_xlabel('mean')\n",
      "# Make the y-axis label and tick labels match the line color.\n",
      "ax1.set_ylabel('exp', color='b')\n",
      "for tl in ax1.get_yticklabels():\n",
      "    tl.set_color('b')\n",
      "\n",
      "\n",
      "ax2 = ax1.twinx()\n",
      "ax2.plot(mxs, 'r.')\n",
      "ax2.set_ylabel('max', color='r')\n",
      "for tl in ax2.get_yticklabels():\n",
      "    tl.set_color('r')\n",
      "plt.show()"
     ],
     "language": "python",
     "metadata": {},
     "outputs": [
      {
       "metadata": {},
       "output_type": "display_data",
       "png": "[encoded data removed]",
       "text": [
        "<matplotlib.figure.Figure at 0x7fa629956a10>"
       ]
      }
     ],
     "prompt_number": 18
    },
    {
     "cell_type": "code",
     "collapsed": false,
     "input": [],
     "language": "python",
     "metadata": {},
     "outputs": []
    }
   ],
   "metadata": {}
  }
 ]
}