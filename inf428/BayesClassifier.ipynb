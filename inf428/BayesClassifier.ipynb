{
 "metadata": {
  "name": ""
 },
 "nbformat": 3,
 "nbformat_minor": 0,
 "worksheets": [
  {
   "cells": [
    {
     "cell_type": "code",
     "collapsed": false,
     "input": [
      "from numpy import *"
     ],
     "language": "python",
     "metadata": {},
     "outputs": [],
     "prompt_number": 1
    },
    {
     "cell_type": "code",
     "collapsed": false,
     "input": [
      "def loadDataSet():\n",
      "    postingList=[['my', 'dog', 'has', 'flea', 'problems', 'help', 'please'],\n",
      "                 ['maybe', 'not', 'take', 'him', 'to', 'dog', 'park', 'stupid'],\n",
      "                 ['my', 'dalmation', 'is', 'so', 'cute', 'I', 'love', 'him'],\n",
      "                 ['stop', 'posting', 'stupid', 'worthless', 'garbage'],\n",
      "                 ['mr', 'licks', 'ate', 'my', 'steak', 'how', 'to', 'stop', 'him'],\n",
      "                 ['quit', 'buying', 'worthless', 'dog', 'food', 'stupid']]\n",
      "    classVec = [0,1,0,1,0,1]    #1 is abusive, 0 not\n",
      "    return postingList,classVec"
     ],
     "language": "python",
     "metadata": {},
     "outputs": [],
     "prompt_number": 2
    },
    {
     "cell_type": "code",
     "collapsed": false,
     "input": [
      "def createVocabList(dataSet):\n",
      "    vocabSet = set([])\n",
      "    for document in dataSet:\n",
      "        vocabSet=vocabSet|set(document)\n",
      "    return list(vocabSet)"
     ],
     "language": "python",
     "metadata": {},
     "outputs": [],
     "prompt_number": 71
    },
    {
     "cell_type": "code",
     "collapsed": false,
     "input": [
      "def setOfWords2Vec(vocabList, inputSet):\n",
      "    returnVec=[0]*len(vocabList)\n",
      "    for word in inputSet:\n",
      "        if word in vocabList:\n",
      "            returnVec[vocabList.index(word)]=1\n",
      "        else:\n",
      "            print \"the word %s is not known to me\" % word\n",
      "    return returnVec"
     ],
     "language": "python",
     "metadata": {},
     "outputs": [],
     "prompt_number": 72
    },
    {
     "cell_type": "code",
     "collapsed": false,
     "input": [
      "def trainNB0(trainMatrix,trainCategory):\n",
      "    numTrainDocs = len(trainMatrix)\n",
      "    numWords = len(trainMatrix[0])\n",
      "    pAbusive = sum(trainCategory)/float(numTrainDocs)\n",
      "    p0Num = ones(numWords); p1Num = ones(numWords)      #change to ones() \n",
      "    p0Denom = 2.0; p1Denom = 2.0                        #change to 2.0\n",
      "    for i in range(numTrainDocs):\n",
      "        if trainCategory[i] == 1:\n",
      "            p1Num += trainMatrix[i]\n",
      "            p1Denom += sum(trainMatrix[i])\n",
      "        else:\n",
      "            p0Num += trainMatrix[i]\n",
      "            p0Denom += sum(trainMatrix[i])\n",
      "    p1Vect = log(p1Num/p1Denom)          #change to log()\n",
      "    p0Vect = log(p0Num/p0Denom)          #change to log()\n",
      "    return p0Vect,p1Vect,pAbusive\n",
      "    "
     ],
     "language": "python",
     "metadata": {},
     "outputs": [],
     "prompt_number": 86
    },
    {
     "cell_type": "code",
     "collapsed": false,
     "input": [
      "listOfPosts, listClasses=loadDataSet()\n",
      "vocabList=createVocabList(listOfPosts)\n",
      "\n",
      "trainMat=[]\n",
      "\n",
      "for post in listOfPosts:\n",
      "    print\n",
      "    print post\n",
      "    print setOfWords2Vec(vocabList, post)\n",
      "    trainMat.append(setOfWords2Vec(vocabList, post))\n",
      "\n",
      "p0V, p1V, pAbusive = trainNB0(trainMat, listClasses)"
     ],
     "language": "python",
     "metadata": {},
     "outputs": [
      {
       "output_type": "stream",
       "stream": "stdout",
       "text": [
        "\n",
        "['my', 'dog', 'has', 'flea', 'problems', 'help', 'please']\n",
        "[0, 0, 1, 0, 0, 0, 1, 0, 0, 0, 1, 0, 0, 0, 0, 0, 0, 0, 1, 0, 0, 0, 0, 1, 1, 0, 0, 0, 0, 0, 0, 1]\n",
        "\n",
        "['maybe', 'not', 'take', 'him', 'to', 'dog', 'park', 'stupid']\n",
        "[0, 0, 0, 0, 0, 0, 0, 0, 1, 0, 0, 0, 0, 0, 1, 1, 0, 0, 0, 0, 0, 1, 1, 0, 1, 0, 1, 0, 1, 0, 0, 0]\n",
        "\n",
        "['my', 'dalmation', 'is', 'so', 'cute', 'I', 'love', 'him']\n",
        "[1, 1, 0, 0, 0, 1, 0, 1, 0, 0, 0, 1, 0, 0, 0, 1, 0, 0, 0, 0, 0, 0, 0, 0, 0, 0, 0, 1, 0, 0, 0, 1]\n",
        "\n",
        "['stop', 'posting', 'stupid', 'worthless', 'garbage']\n",
        "[0, 0, 0, 1, 0, 0, 0, 0, 0, 1, 0, 0, 0, 0, 0, 0, 0, 1, 0, 1, 0, 0, 0, 0, 0, 0, 1, 0, 0, 0, 0, 0]\n",
        "\n",
        "['mr', 'licks', 'ate', 'my', 'steak', 'how', 'to', 'stop', 'him']\n",
        "[0, 0, 0, 0, 0, 0, 0, 0, 0, 1, 0, 0, 1, 0, 0, 1, 0, 0, 0, 0, 1, 1, 0, 0, 0, 1, 0, 0, 0, 1, 1, 1]\n",
        "\n",
        "['quit', 'buying', 'worthless', 'dog', 'food', 'stupid']\n",
        "[0, 0, 0, 0, 1, 0, 0, 0, 0, 0, 0, 0, 0, 1, 0, 0, 1, 0, 0, 1, 0, 0, 0, 0, 1, 0, 1, 0, 0, 0, 0, 0]\n"
       ]
      }
     ],
     "prompt_number": 87
    },
    {
     "cell_type": "code",
     "collapsed": false,
     "input": [
      "print pAbusive"
     ],
     "language": "python",
     "metadata": {},
     "outputs": [
      {
       "output_type": "stream",
       "stream": "stdout",
       "text": [
        "0.5\n"
       ]
      }
     ],
     "prompt_number": 88
    },
    {
     "cell_type": "code",
     "collapsed": false,
     "input": [
      "print p0V"
     ],
     "language": "python",
     "metadata": {},
     "outputs": [
      {
       "output_type": "stream",
       "stream": "stdout",
       "text": [
        "[-2.56494936 -2.56494936 -2.56494936 -3.25809654 -3.25809654 -2.56494936\n",
        " -2.56494936 -2.56494936 -3.25809654 -2.56494936 -2.56494936 -2.56494936\n",
        " -2.56494936 -3.25809654 -3.25809654 -2.15948425 -3.25809654 -3.25809654\n",
        " -2.56494936 -3.25809654 -2.56494936 -2.56494936 -3.25809654 -2.56494936\n",
        " -2.56494936 -2.56494936 -3.25809654 -2.56494936 -3.25809654 -2.56494936\n",
        " -2.56494936 -1.87180218]\n"
       ]
      }
     ],
     "prompt_number": 89
    },
    {
     "cell_type": "code",
     "collapsed": false,
     "input": [
      "print p1V"
     ],
     "language": "python",
     "metadata": {},
     "outputs": [
      {
       "output_type": "stream",
       "stream": "stdout",
       "text": [
        "[-3.04452244 -3.04452244 -3.04452244 -2.35137526 -2.35137526 -3.04452244\n",
        " -3.04452244 -3.04452244 -2.35137526 -2.35137526 -3.04452244 -3.04452244\n",
        " -3.04452244 -2.35137526 -2.35137526 -2.35137526 -2.35137526 -2.35137526\n",
        " -3.04452244 -1.94591015 -3.04452244 -2.35137526 -2.35137526 -3.04452244\n",
        " -1.94591015 -3.04452244 -1.65822808 -3.04452244 -2.35137526 -3.04452244\n",
        " -3.04452244 -3.04452244]\n"
       ]
      }
     ],
     "prompt_number": 90
    },
    {
     "cell_type": "code",
     "collapsed": false,
     "input": [
      "def classifyNB(vec2Classify, p0Vec, p1Vec, pClass1):\n",
      "    p1 = sum(vec2Classify * p1Vec) + log(pClass1)    #element-wise mult\n",
      "    p0 = sum(vec2Classify * p0Vec) + log(1.0 - pClass1)\n",
      "    if p1 > p0:\n",
      "        return 1\n",
      "    else: \n",
      "        return 0"
     ],
     "language": "python",
     "metadata": {},
     "outputs": [],
     "prompt_number": 91
    },
    {
     "cell_type": "code",
     "collapsed": false,
     "input": [
      "testEntry=['love', 'my', 'dalmation']\n",
      "angryEntry=['stupid', 'idiots', 'rocks', 'trees']\n",
      "theDoc=array(setOfWords2Vec(vocabList, testEntry))\n",
      "angryDoc=array(setOfWords2Vec(vocabList, angryEntry))\n",
      "print testEntry, theDoc\n",
      "print angryEntry, angryDoc"
     ],
     "language": "python",
     "metadata": {},
     "outputs": [
      {
       "output_type": "stream",
       "stream": "stdout",
       "text": [
        "the word idiots is not known to me\n",
        "the word rocks is not known to me\n",
        "the word trees is not known to me\n",
        "['love', 'my', 'dalmation'] [0 1 0 0 0 0 0 0 0 0 0 1 0 0 0 0 0 0 0 0 0 0 0 0 0 0 0 0 0 0 0 1]\n",
        "['stupid', 'idiots', 'rocks', 'trees'] [0 0 0 0 0 0 0 0 0 0 0 0 0 0 0 0 0 0 0 0 0 0 0 0 0 0 1 0 0 0 0 0]\n"
       ]
      }
     ],
     "prompt_number": 92
    },
    {
     "cell_type": "code",
     "collapsed": false,
     "input": [
      "print testEntry, 'classified as: ', classifyNB(theDoc, p0V, p1V, pAbusive)\n",
      "print angryEntry, 'classified as: ', classifyNB(angryDoc, p0V, p1V, pAbusive)"
     ],
     "language": "python",
     "metadata": {},
     "outputs": [
      {
       "output_type": "stream",
       "stream": "stdout",
       "text": [
        "['love', 'my', 'dalmation'] classified as:  0\n",
        "['stupid', 'idiots', 'rocks', 'trees'] classified as:  1\n"
       ]
      }
     ],
     "prompt_number": 93
    },
    {
     "cell_type": "code",
     "collapsed": false,
     "input": [
      "print vocabList"
     ],
     "language": "python",
     "metadata": {},
     "outputs": [
      {
       "output_type": "stream",
       "stream": "stdout",
       "text": [
        "['cute', 'love', 'help', 'garbage', 'quit', 'I', 'problems', 'is', 'park', 'stop', 'flea', 'dalmation', 'licks', 'food', 'not', 'him', 'buying', 'posting', 'has', 'worthless', 'ate', 'to', 'maybe', 'please', 'dog', 'how', 'stupid', 'so', 'take', 'mr', 'steak', 'my']\n"
       ]
      }
     ],
     "prompt_number": 94
    },
    {
     "cell_type": "code",
     "collapsed": false,
     "input": [
      "def bagOfWords2VecMN(vocabList, inputSet):\n",
      "    returnVec = [0]*len(vocabList)\n",
      "    for word in inputSet:\n",
      "        if word in vocabList:\n",
      "            returnVec[vocabList.index(word)] += 1\n",
      "    return returnVec"
     ],
     "language": "python",
     "metadata": {},
     "outputs": [],
     "prompt_number": 125
    },
    {
     "cell_type": "code",
     "collapsed": false,
     "input": [
      "test='This is my test! A.B.C. ?? and I will see what will happen when I try to split the text'\n",
      "print test.split()"
     ],
     "language": "python",
     "metadata": {},
     "outputs": [
      {
       "output_type": "stream",
       "stream": "stdout",
       "text": [
        "['This', 'is', 'my', 'test!', 'A.B.C.', '??', 'and', 'I', 'will', 'see', 'what', 'will', 'happen', 'when', 'I', 'try', 'to', 'split', 'the', 'text']\n"
       ]
      }
     ],
     "prompt_number": 101
    },
    {
     "cell_type": "code",
     "collapsed": false,
     "input": [
      "import re\n",
      "regEx = re.compile('\\\\W*')\n",
      "listOfWords=regEx.split(test)\n",
      "print listOfWords"
     ],
     "language": "python",
     "metadata": {},
     "outputs": [
      {
       "output_type": "stream",
       "stream": "stdout",
       "text": [
        "['This', 'is', 'my', 'test', 'A', 'B', 'C', 'and', 'I', 'will', 'see', 'what', 'will', 'happen', 'when', 'I', 'try', 'to', 'split', 'the', 'text']\n"
       ]
      }
     ],
     "prompt_number": 102
    },
    {
     "cell_type": "code",
     "collapsed": false,
     "input": [
      "listOfWords=[tok.lower() for tok in listOfWords if len(tok)>0]"
     ],
     "language": "python",
     "metadata": {},
     "outputs": [],
     "prompt_number": 104
    },
    {
     "cell_type": "code",
     "collapsed": false,
     "input": [
      "print listOfWords"
     ],
     "language": "python",
     "metadata": {},
     "outputs": [
      {
       "output_type": "stream",
       "stream": "stdout",
       "text": [
        "['this', 'is', 'my', 'test', 'a', 'b', 'c', 'and', 'i', 'will', 'see', 'what', 'will', 'happen', 'when', 'i', 'try', 'to', 'split', 'the', 'text']\n"
       ]
      }
     ],
     "prompt_number": 105
    },
    {
     "cell_type": "code",
     "collapsed": false,
     "input": [
      "import feedparser"
     ],
     "language": "python",
     "metadata": {},
     "outputs": [],
     "prompt_number": 107
    },
    {
     "cell_type": "code",
     "collapsed": false,
     "input": [
      "feed1=feedparser.parse('http://newyork.craigslist.org/stp/index.rss')\n",
      "feed2=feedparser.parse('http://sfbay.craigslist.org/stp/index.rss')"
     ],
     "language": "python",
     "metadata": {},
     "outputs": [],
     "prompt_number": 111
    },
    {
     "cell_type": "code",
     "collapsed": false,
     "input": [
      "print len(feed1['entries'])\n",
      "print len(feed2['entries'])"
     ],
     "language": "python",
     "metadata": {},
     "outputs": [
      {
       "output_type": "stream",
       "stream": "stdout",
       "text": [
        "25\n",
        "25\n"
       ]
      }
     ],
     "prompt_number": 112
    },
    {
     "cell_type": "code",
     "collapsed": false,
     "input": [
      "def textParse(bigString):\n",
      "    listOfTokens=re.split(r'\\W*', bigString)\n",
      "    return [tok.lower() for tok in listOfTokens if len(tok)>2]"
     ],
     "language": "python",
     "metadata": {},
     "outputs": [],
     "prompt_number": 116
    },
    {
     "cell_type": "code",
     "collapsed": false,
     "input": [
      "def calcMostFreq(vocabList, fullText):\n",
      "    import operator\n",
      "    freqDict={}\n",
      "    for token in vocabList:\n",
      "        freqDict[token]=fullText.count(token)\n",
      "    sortedFreq = sorted(freqDict.iteritems(), key=operator.itemgetter(1), reverse=True) \n",
      "    return sortedFreq[:30]      "
     ],
     "language": "python",
     "metadata": {},
     "outputs": [],
     "prompt_number": 120
    },
    {
     "cell_type": "code",
     "collapsed": false,
     "input": [
      "docList=[]; classList=[]; fullText=[];\n",
      "\n",
      "minLen= min(len(feed1['entries']), len(feed2['entries']))\n",
      "\n",
      "for i in range(minLen):\n",
      "    wordList=textParse(feed1['entries'][i]['summary'])\n",
      "    docList.append(wordList)\n",
      "    fullText.extend(wordList)\n",
      "    classList.append(1)\n",
      "    \n",
      "    wordList=textParse(feed2['entries'][i]['summary'])\n",
      "    docList.append(wordList)\n",
      "    fullText.extend(wordList)\n",
      "    classList.append(0)\n",
      "\n",
      "vocabList=createVocabList(docList)\n",
      "top30Words=calcMostFreq(vocabList, fullText)\n",
      "\n",
      "for pairW in top30Words:\n",
      "        if pairW[0] in vocabList: vocabList.remove(pairW[0])\n",
      "            \n",
      "trainingSet = range(2*minLen); testSet=[]           #create test set\n",
      "\n",
      "for i in range(20):\n",
      "        randIndex = int(random.uniform(0,len(trainingSet)))\n",
      "        testSet.append(trainingSet[randIndex])\n",
      "        del(trainingSet[randIndex])  \n",
      "        \n",
      "trainMat=[]; trainClasses = []\n",
      "for docIndex in trainingSet:#train the classifier (get probs) trainNB0\n",
      "        trainMat.append(bagOfWords2VecMN(vocabList, docList[docIndex]))\n",
      "        trainClasses.append(classList[docIndex])\n",
      "        \n",
      "p0V, p1V, pCity = trainNB0(array(trainMat), array(trainClasses))\n",
      "\n",
      "print pCity\n",
      "\n",
      "errorCount=0\n",
      "\n",
      "for docIndex in testSet:\n",
      "    wordVector=bagOfWords2VecMN(vocabList, docList[docIndex])\n",
      "    if classifyNB(array(wordVector), p0V, p1V, pCity) != \\\n",
      "        classList[docIndex]:\n",
      "            errorCount+=1\n",
      "            \n",
      "print 'error rate is: ',float(errorCount)/len(testSet)\n"
     ],
     "language": "python",
     "metadata": {},
     "outputs": [
      {
       "output_type": "stream",
       "stream": "stdout",
       "text": [
        "0.5\n",
        "error rate is:  0.35\n"
       ]
      }
     ],
     "prompt_number": 132
    },
    {
     "cell_type": "code",
     "collapsed": false,
     "input": [
      "print textParse(feed1['entries'][0]['summary'])"
     ],
     "language": "python",
     "metadata": {},
     "outputs": [
      {
       "output_type": "stream",
       "stream": "stdout",
       "text": [
        "[u'submissive', u'attractive', u'guy', u'seeks', u'woman', u'who', u'would', u'like', u'inimidate', u'and', u'physically', u'control', u'make', u'thinkgs', u'for', u'you', u'and', u'spoil', u'you', u'you', u'this', u'physically', u'beating', u'but', u'not', u'into', u'anything', u'too', u'crazy', u'blood', u'marks', u'etc', u'this', u'interest']\n"
       ]
      }
     ],
     "prompt_number": 127
    },
    {
     "cell_type": "code",
     "collapsed": false,
     "input": [],
     "language": "python",
     "metadata": {},
     "outputs": []
    }
   ],
   "metadata": {}
  }
 ]
}