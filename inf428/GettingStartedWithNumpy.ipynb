{
 "metadata": {
  "name": ""
 },
 "nbformat": 3,
 "nbformat_minor": 0,
 "worksheets": [
  {
   "cells": [
    {
     "cell_type": "code",
     "collapsed": false,
     "input": [
      "from numpy import *"
     ],
     "language": "python",
     "metadata": {},
     "outputs": [],
     "prompt_number": 1
    },
    {
     "cell_type": "code",
     "collapsed": false,
     "input": [
      "randArray=random.rand(4,4)\n",
      "print randArray"
     ],
     "language": "python",
     "metadata": {},
     "outputs": [
      {
       "output_type": "stream",
       "stream": "stdout",
       "text": [
        "[[ 0.1718118   0.44556964  0.30070362  0.74058164]\n",
        " [ 0.9836658   0.40901224  0.50157364  0.90958934]\n",
        " [ 0.26017568  0.76313929  0.64118619  0.25944681]\n",
        " [ 0.16528556  0.33491791  0.20289097  0.85924188]]\n"
       ]
      }
     ],
     "prompt_number": 9
    },
    {
     "cell_type": "code",
     "collapsed": false,
     "input": [
      "type(randArray)"
     ],
     "language": "python",
     "metadata": {},
     "outputs": [
      {
       "metadata": {},
       "output_type": "pyout",
       "prompt_number": 4,
       "text": [
        "numpy.ndarray"
       ]
      }
     ],
     "prompt_number": 4
    },
    {
     "cell_type": "code",
     "collapsed": false,
     "input": [
      "randMat=mat(randArray)\n",
      "print type(randMat)"
     ],
     "language": "python",
     "metadata": {},
     "outputs": [
      {
       "output_type": "stream",
       "stream": "stdout",
       "text": [
        "<class 'numpy.matrixlib.defmatrix.matrix'>\n"
       ]
      }
     ],
     "prompt_number": 6
    },
    {
     "cell_type": "code",
     "collapsed": false,
     "input": [
      "invRandMat=randMat.I\n",
      "print invRandMat"
     ],
     "language": "python",
     "metadata": {},
     "outputs": [
      {
       "output_type": "stream",
       "stream": "stdout",
       "text": [
        "[[-1.13556541 -1.15261768  3.18245626 -0.02914983]\n",
        " [ 1.08372999  2.99379121 -1.58588112 -2.12940148]\n",
        " [-1.30460737  0.60811267  0.36844602  1.00591169]\n",
        " [ 0.81802363 -2.01518008 -0.48179943  1.86699982]]\n"
       ]
      }
     ],
     "prompt_number": 8
    },
    {
     "cell_type": "code",
     "collapsed": false,
     "input": [
      "testEye=randMat*invRandMat\n",
      "print testEye"
     ],
     "language": "python",
     "metadata": {},
     "outputs": [
      {
       "output_type": "stream",
       "stream": "stdout",
       "text": [
        "[[  1.00000000e+00   0.00000000e+00   1.66533454e-16   0.00000000e+00]\n",
        " [  5.55111512e-17   1.00000000e+00   2.77555756e-17  -1.11022302e-16]\n",
        " [ -5.55111512e-17   0.00000000e+00   1.00000000e+00   0.00000000e+00]\n",
        " [ -1.11022302e-16   2.22044605e-16   2.22044605e-16   1.00000000e+00]]\n"
       ]
      }
     ],
     "prompt_number": 13
    },
    {
     "cell_type": "code",
     "collapsed": false,
     "input": [
      "print testEye-eye(4)"
     ],
     "language": "python",
     "metadata": {},
     "outputs": [
      {
       "output_type": "stream",
       "stream": "stdout",
       "text": [
        "[[  2.22044605e-16   0.00000000e+00   1.66533454e-16   0.00000000e+00]\n",
        " [  5.55111512e-17   0.00000000e+00   2.77555756e-17  -1.11022302e-16]\n",
        " [ -5.55111512e-17   0.00000000e+00   2.22044605e-16   0.00000000e+00]\n",
        " [ -1.11022302e-16   2.22044605e-16   2.22044605e-16  -1.11022302e-16]]\n"
       ]
      }
     ],
     "prompt_number": 14
    },
    {
     "cell_type": "code",
     "collapsed": false,
     "input": [],
     "language": "python",
     "metadata": {},
     "outputs": []
    }
   ],
   "metadata": {}
  }
 ]
}